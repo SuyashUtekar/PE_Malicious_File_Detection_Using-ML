{
  "cells": [
    {
      "cell_type": "markdown",
      "id": "V8NkPvqCir13",
      "metadata": {
        "id": "V8NkPvqCir13"
      },
      "source": [
        "# Loading and Preprocessing"
      ]
    },
    {
      "cell_type": "markdown",
      "id": "XOSZ9t8ZIuU0",
      "metadata": {
        "id": "XOSZ9t8ZIuU0"
      },
      "source": [
        "### Mounting the Drive"
      ]
    },
    {
      "cell_type": "code",
      "execution_count": 1,
      "id": "1wtO-P0PIzUB",
      "metadata": {
        "colab": {
          "base_uri": "https://localhost:8080/"
        },
        "id": "1wtO-P0PIzUB",
        "outputId": "b193ba6f-9291-43bc-f480-2d9df563f2e7"
      },
      "outputs": [
        {
          "output_type": "stream",
          "name": "stdout",
          "text": [
            "Mounted at /content/drive\n"
          ]
        }
      ],
      "source": [
        "# Mount Google Drive\n",
        "from google.colab import drive\n",
        "drive.mount('/content/drive')"
      ]
    },
    {
      "cell_type": "markdown",
      "id": "Vx2g2j6iTmfO",
      "metadata": {
        "id": "Vx2g2j6iTmfO"
      },
      "source": [
        "### Downloading pefile Library"
      ]
    },
    {
      "cell_type": "code",
      "execution_count": 2,
      "id": "9teB_2FQ_Tej",
      "metadata": {
        "colab": {
          "base_uri": "https://localhost:8080/"
        },
        "id": "9teB_2FQ_Tej",
        "outputId": "7cbca9a1-1412-4551-f55b-20013c13759b"
      },
      "outputs": [
        {
          "output_type": "stream",
          "name": "stdout",
          "text": [
            "Collecting pefile\n",
            "  Downloading pefile-2023.2.7-py3-none-any.whl.metadata (1.4 kB)\n",
            "Downloading pefile-2023.2.7-py3-none-any.whl (71 kB)\n",
            "\u001b[?25l   \u001b[90m━━━━━━━━━━━━━━━━━━━━━━━━━━━━━━━━━━━━━━━━\u001b[0m \u001b[32m0.0/71.8 kB\u001b[0m \u001b[31m?\u001b[0m eta \u001b[36m-:--:--\u001b[0m\r\u001b[2K   \u001b[90m━━━━━━━━━━━━━━━━━━━━━━━━━━━━━━━━━━━━━━━━\u001b[0m \u001b[32m71.8/71.8 kB\u001b[0m \u001b[31m7.3 MB/s\u001b[0m eta \u001b[36m0:00:00\u001b[0m\n",
            "\u001b[?25hInstalling collected packages: pefile\n",
            "Successfully installed pefile-2023.2.7\n"
          ]
        }
      ],
      "source": [
        "!pip install pefile"
      ]
    },
    {
      "cell_type": "markdown",
      "id": "lpooAyI6TiPV",
      "metadata": {
        "id": "lpooAyI6TiPV"
      },
      "source": [
        "### Importing Libraries"
      ]
    },
    {
      "cell_type": "code",
      "execution_count": 3,
      "id": "c1cc7f0c",
      "metadata": {
        "id": "c1cc7f0c"
      },
      "outputs": [],
      "source": [
        "import os\n",
        "import pandas as pd\n",
        "import matplotlib.pyplot as plt\n",
        "import numpy\n",
        "import pickle\n",
        "import pefile\n",
        "import sklearn.ensemble as ek\n",
        "from sklearn.model_selection import train_test_split\n",
        "from sklearn import tree, linear_model\n",
        "from sklearn.feature_selection import SelectFromModel\n",
        "import joblib\n",
        "from sklearn.metrics import confusion_matrix\n",
        "from sklearn.pipeline import make_pipeline\n",
        "from sklearn import preprocessing\n",
        "from sklearn import svm\n",
        "from sklearn.svm import SVC\n",
        "from sklearn.model_selection import train_test_split\n",
        "from sklearn.ensemble import RandomForestClassifier, AdaBoostClassifier, GradientBoostingClassifier\n",
        "from sklearn.tree import DecisionTreeClassifier\n",
        "from sklearn.linear_model import LinearRegression\n",
        "from sklearn.neighbors import KNeighborsClassifier\n",
        "from xgboost import XGBClassifier\n",
        "from sklearn.linear_model import LogisticRegression\n",
        "from sklearn.naive_bayes import GaussianNB\n",
        "from sklearn.metrics import accuracy_score"
      ]
    },
    {
      "cell_type": "markdown",
      "id": "YzeNJRwfTtwQ",
      "metadata": {
        "id": "YzeNJRwfTtwQ"
      },
      "source": [
        "### Load the Dataset (malware_data.csv)"
      ]
    },
    {
      "cell_type": "code",
      "execution_count": 6,
      "id": "2f3381d8",
      "metadata": {
        "colab": {
          "base_uri": "https://localhost:8080/",
          "height": 178
        },
        "id": "2f3381d8",
        "outputId": "0785c6c3-f360-44b0-95ce-ebd4f10c4ac0"
      },
      "outputs": [
        {
          "output_type": "execute_result",
          "data": {
            "text/plain": [
              "legitimate\n",
              "0    96724\n",
              "1    41323\n",
              "dtype: int64"
            ],
            "text/html": [
              "<div>\n",
              "<style scoped>\n",
              "    .dataframe tbody tr th:only-of-type {\n",
              "        vertical-align: middle;\n",
              "    }\n",
              "\n",
              "    .dataframe tbody tr th {\n",
              "        vertical-align: top;\n",
              "    }\n",
              "\n",
              "    .dataframe thead th {\n",
              "        text-align: right;\n",
              "    }\n",
              "</style>\n",
              "<table border=\"1\" class=\"dataframe\">\n",
              "  <thead>\n",
              "    <tr style=\"text-align: right;\">\n",
              "      <th></th>\n",
              "      <th>0</th>\n",
              "    </tr>\n",
              "    <tr>\n",
              "      <th>legitimate</th>\n",
              "      <th></th>\n",
              "    </tr>\n",
              "  </thead>\n",
              "  <tbody>\n",
              "    <tr>\n",
              "      <th>0</th>\n",
              "      <td>96724</td>\n",
              "    </tr>\n",
              "    <tr>\n",
              "      <th>1</th>\n",
              "      <td>41323</td>\n",
              "    </tr>\n",
              "  </tbody>\n",
              "</table>\n",
              "</div><br><label><b>dtype:</b> int64</label>"
            ]
          },
          "metadata": {},
          "execution_count": 6
        }
      ],
      "source": [
        "dataset = pd.read_csv('/content/drive/MyDrive/SEM6_Project/Malicious_File/PE_Malicious_File_Detection/malware_data.csv',sep='|')\n",
        "dataset.groupby(dataset['legitimate']).size()"
      ]
    },
    {
      "cell_type": "code",
      "execution_count": 8,
      "id": "71ae3c9e",
      "metadata": {
        "colab": {
          "base_uri": "https://localhost:8080/",
          "height": 444
        },
        "id": "71ae3c9e",
        "outputId": "c136cd85-b49f-45dc-a345-c76ca3d80161"
      },
      "outputs": [
        {
          "output_type": "execute_result",
          "data": {
            "text/plain": [
              "                                               Name  \\\n",
              "0                                       memtest.exe   \n",
              "1                                           ose.exe   \n",
              "2                                         setup.exe   \n",
              "3                                          DW20.EXE   \n",
              "4                                      dwtrig20.exe   \n",
              "...                                             ...   \n",
              "138042  VirusShare_8e292b418568d6e7b87f2a32aee7074b   \n",
              "138043  VirusShare_260d9e2258aed4c8a3bbd703ec895822   \n",
              "138044  VirusShare_8d088a51b7d225c9f5d11d239791ec3f   \n",
              "138045  VirusShare_4286dccf67ca220fe67635388229a9f3   \n",
              "138046  VirusShare_d7648eae45f09b3adb75127f43be6d11   \n",
              "\n",
              "                                     md5  Machine  SizeOfOptionalHeader  \\\n",
              "0       631ea355665f28d4707448e442fbf5b8      332                   224   \n",
              "1       9d10f99a6712e28f8acd5641e3a7ea6b      332                   224   \n",
              "2       4d92f518527353c0db88a70fddcfd390      332                   224   \n",
              "3       a41e524f8d45f0074fd07805ff0c9b12      332                   224   \n",
              "4       c87e561258f2f8650cef999bf643a731      332                   224   \n",
              "...                                  ...      ...                   ...   \n",
              "138042  8e292b418568d6e7b87f2a32aee7074b      332                   224   \n",
              "138043  260d9e2258aed4c8a3bbd703ec895822      332                   224   \n",
              "138044  8d088a51b7d225c9f5d11d239791ec3f      332                   224   \n",
              "138045  4286dccf67ca220fe67635388229a9f3      332                   224   \n",
              "138046  d7648eae45f09b3adb75127f43be6d11      332                   224   \n",
              "\n",
              "        Characteristics  MajorLinkerVersion  MinorLinkerVersion  SizeOfCode  \\\n",
              "0                   258                   9                   0      361984   \n",
              "1                  3330                   9                   0      130560   \n",
              "2                  3330                   9                   0      517120   \n",
              "3                   258                   9                   0      585728   \n",
              "4                   258                   9                   0      294912   \n",
              "...                 ...                 ...                 ...         ...   \n",
              "138042              258                  11                   0      205824   \n",
              "138043            33167                   2                  25       37888   \n",
              "138044              258                  10                   0      118272   \n",
              "138045            33166                   2                  25       49152   \n",
              "138046              258                  11                   0      111616   \n",
              "\n",
              "        SizeOfInitializedData  SizeOfUninitializedData  ...  ResourcesNb  \\\n",
              "0                      115712                        0  ...            4   \n",
              "1                       19968                        0  ...            2   \n",
              "2                      621568                        0  ...           11   \n",
              "3                      369152                        0  ...           10   \n",
              "4                      247296                        0  ...            2   \n",
              "...                       ...                      ...  ...          ...   \n",
              "138042                 223744                        0  ...            7   \n",
              "138043                 185344                        0  ...           26   \n",
              "138044                 380416                        0  ...           22   \n",
              "138045                  16896                        0  ...           10   \n",
              "138046                 468480                        0  ...            4   \n",
              "\n",
              "        ResourcesMeanEntropy  ResourcesMinEntropy  ResourcesMaxEntropy  \\\n",
              "0                   3.262823             2.568844             3.537939   \n",
              "1                   4.250461             3.420744             5.080177   \n",
              "2                   4.426324             2.846449             5.271813   \n",
              "3                   4.364291             2.669314             6.400720   \n",
              "4                   4.306100             3.421598             5.190603   \n",
              "...                      ...                  ...                  ...   \n",
              "138042              4.122736             1.370260             7.677091   \n",
              "138043              3.377663             2.031619             5.050074   \n",
              "138044              6.825406             2.617026             7.990487   \n",
              "138045              3.421627             2.060964             4.739744   \n",
              "138046              4.407252             1.980482             6.115374   \n",
              "\n",
              "        ResourcesMeanSize  ResourcesMinSize  ResourcesMaxSize  \\\n",
              "0             8797.000000               216             18032   \n",
              "1              837.000000               518              1156   \n",
              "2            31102.272727               104            270376   \n",
              "3             1457.000000                90              4264   \n",
              "4             1074.500000               849              1300   \n",
              "...                   ...               ...               ...   \n",
              "138042       14900.714286                16             81654   \n",
              "138043        6905.846154                44             67624   \n",
              "138044       14981.909091                48             22648   \n",
              "138045         601.600000                16              2216   \n",
              "138046       96625.000000                20            318464   \n",
              "\n",
              "        LoadConfigurationSize  VersionInformationSize  legitimate  \n",
              "0                           0                      16           1  \n",
              "1                          72                      18           1  \n",
              "2                          72                      18           1  \n",
              "3                          72                      18           1  \n",
              "4                          72                      18           1  \n",
              "...                       ...                     ...         ...  \n",
              "138042                     72                       0           0  \n",
              "138043                      0                      15           0  \n",
              "138044                     72                      14           0  \n",
              "138045                      0                       0           0  \n",
              "138046                     72                       0           0  \n",
              "\n",
              "[138047 rows x 57 columns]"
            ],
            "text/html": [
              "\n",
              "  <div id=\"df-2d8a7dde-c539-4a56-a325-87388eba4b3a\" class=\"colab-df-container\">\n",
              "    <div>\n",
              "<style scoped>\n",
              "    .dataframe tbody tr th:only-of-type {\n",
              "        vertical-align: middle;\n",
              "    }\n",
              "\n",
              "    .dataframe tbody tr th {\n",
              "        vertical-align: top;\n",
              "    }\n",
              "\n",
              "    .dataframe thead th {\n",
              "        text-align: right;\n",
              "    }\n",
              "</style>\n",
              "<table border=\"1\" class=\"dataframe\">\n",
              "  <thead>\n",
              "    <tr style=\"text-align: right;\">\n",
              "      <th></th>\n",
              "      <th>Name</th>\n",
              "      <th>md5</th>\n",
              "      <th>Machine</th>\n",
              "      <th>SizeOfOptionalHeader</th>\n",
              "      <th>Characteristics</th>\n",
              "      <th>MajorLinkerVersion</th>\n",
              "      <th>MinorLinkerVersion</th>\n",
              "      <th>SizeOfCode</th>\n",
              "      <th>SizeOfInitializedData</th>\n",
              "      <th>SizeOfUninitializedData</th>\n",
              "      <th>...</th>\n",
              "      <th>ResourcesNb</th>\n",
              "      <th>ResourcesMeanEntropy</th>\n",
              "      <th>ResourcesMinEntropy</th>\n",
              "      <th>ResourcesMaxEntropy</th>\n",
              "      <th>ResourcesMeanSize</th>\n",
              "      <th>ResourcesMinSize</th>\n",
              "      <th>ResourcesMaxSize</th>\n",
              "      <th>LoadConfigurationSize</th>\n",
              "      <th>VersionInformationSize</th>\n",
              "      <th>legitimate</th>\n",
              "    </tr>\n",
              "  </thead>\n",
              "  <tbody>\n",
              "    <tr>\n",
              "      <th>0</th>\n",
              "      <td>memtest.exe</td>\n",
              "      <td>631ea355665f28d4707448e442fbf5b8</td>\n",
              "      <td>332</td>\n",
              "      <td>224</td>\n",
              "      <td>258</td>\n",
              "      <td>9</td>\n",
              "      <td>0</td>\n",
              "      <td>361984</td>\n",
              "      <td>115712</td>\n",
              "      <td>0</td>\n",
              "      <td>...</td>\n",
              "      <td>4</td>\n",
              "      <td>3.262823</td>\n",
              "      <td>2.568844</td>\n",
              "      <td>3.537939</td>\n",
              "      <td>8797.000000</td>\n",
              "      <td>216</td>\n",
              "      <td>18032</td>\n",
              "      <td>0</td>\n",
              "      <td>16</td>\n",
              "      <td>1</td>\n",
              "    </tr>\n",
              "    <tr>\n",
              "      <th>1</th>\n",
              "      <td>ose.exe</td>\n",
              "      <td>9d10f99a6712e28f8acd5641e3a7ea6b</td>\n",
              "      <td>332</td>\n",
              "      <td>224</td>\n",
              "      <td>3330</td>\n",
              "      <td>9</td>\n",
              "      <td>0</td>\n",
              "      <td>130560</td>\n",
              "      <td>19968</td>\n",
              "      <td>0</td>\n",
              "      <td>...</td>\n",
              "      <td>2</td>\n",
              "      <td>4.250461</td>\n",
              "      <td>3.420744</td>\n",
              "      <td>5.080177</td>\n",
              "      <td>837.000000</td>\n",
              "      <td>518</td>\n",
              "      <td>1156</td>\n",
              "      <td>72</td>\n",
              "      <td>18</td>\n",
              "      <td>1</td>\n",
              "    </tr>\n",
              "    <tr>\n",
              "      <th>2</th>\n",
              "      <td>setup.exe</td>\n",
              "      <td>4d92f518527353c0db88a70fddcfd390</td>\n",
              "      <td>332</td>\n",
              "      <td>224</td>\n",
              "      <td>3330</td>\n",
              "      <td>9</td>\n",
              "      <td>0</td>\n",
              "      <td>517120</td>\n",
              "      <td>621568</td>\n",
              "      <td>0</td>\n",
              "      <td>...</td>\n",
              "      <td>11</td>\n",
              "      <td>4.426324</td>\n",
              "      <td>2.846449</td>\n",
              "      <td>5.271813</td>\n",
              "      <td>31102.272727</td>\n",
              "      <td>104</td>\n",
              "      <td>270376</td>\n",
              "      <td>72</td>\n",
              "      <td>18</td>\n",
              "      <td>1</td>\n",
              "    </tr>\n",
              "    <tr>\n",
              "      <th>3</th>\n",
              "      <td>DW20.EXE</td>\n",
              "      <td>a41e524f8d45f0074fd07805ff0c9b12</td>\n",
              "      <td>332</td>\n",
              "      <td>224</td>\n",
              "      <td>258</td>\n",
              "      <td>9</td>\n",
              "      <td>0</td>\n",
              "      <td>585728</td>\n",
              "      <td>369152</td>\n",
              "      <td>0</td>\n",
              "      <td>...</td>\n",
              "      <td>10</td>\n",
              "      <td>4.364291</td>\n",
              "      <td>2.669314</td>\n",
              "      <td>6.400720</td>\n",
              "      <td>1457.000000</td>\n",
              "      <td>90</td>\n",
              "      <td>4264</td>\n",
              "      <td>72</td>\n",
              "      <td>18</td>\n",
              "      <td>1</td>\n",
              "    </tr>\n",
              "    <tr>\n",
              "      <th>4</th>\n",
              "      <td>dwtrig20.exe</td>\n",
              "      <td>c87e561258f2f8650cef999bf643a731</td>\n",
              "      <td>332</td>\n",
              "      <td>224</td>\n",
              "      <td>258</td>\n",
              "      <td>9</td>\n",
              "      <td>0</td>\n",
              "      <td>294912</td>\n",
              "      <td>247296</td>\n",
              "      <td>0</td>\n",
              "      <td>...</td>\n",
              "      <td>2</td>\n",
              "      <td>4.306100</td>\n",
              "      <td>3.421598</td>\n",
              "      <td>5.190603</td>\n",
              "      <td>1074.500000</td>\n",
              "      <td>849</td>\n",
              "      <td>1300</td>\n",
              "      <td>72</td>\n",
              "      <td>18</td>\n",
              "      <td>1</td>\n",
              "    </tr>\n",
              "    <tr>\n",
              "      <th>...</th>\n",
              "      <td>...</td>\n",
              "      <td>...</td>\n",
              "      <td>...</td>\n",
              "      <td>...</td>\n",
              "      <td>...</td>\n",
              "      <td>...</td>\n",
              "      <td>...</td>\n",
              "      <td>...</td>\n",
              "      <td>...</td>\n",
              "      <td>...</td>\n",
              "      <td>...</td>\n",
              "      <td>...</td>\n",
              "      <td>...</td>\n",
              "      <td>...</td>\n",
              "      <td>...</td>\n",
              "      <td>...</td>\n",
              "      <td>...</td>\n",
              "      <td>...</td>\n",
              "      <td>...</td>\n",
              "      <td>...</td>\n",
              "      <td>...</td>\n",
              "    </tr>\n",
              "    <tr>\n",
              "      <th>138042</th>\n",
              "      <td>VirusShare_8e292b418568d6e7b87f2a32aee7074b</td>\n",
              "      <td>8e292b418568d6e7b87f2a32aee7074b</td>\n",
              "      <td>332</td>\n",
              "      <td>224</td>\n",
              "      <td>258</td>\n",
              "      <td>11</td>\n",
              "      <td>0</td>\n",
              "      <td>205824</td>\n",
              "      <td>223744</td>\n",
              "      <td>0</td>\n",
              "      <td>...</td>\n",
              "      <td>7</td>\n",
              "      <td>4.122736</td>\n",
              "      <td>1.370260</td>\n",
              "      <td>7.677091</td>\n",
              "      <td>14900.714286</td>\n",
              "      <td>16</td>\n",
              "      <td>81654</td>\n",
              "      <td>72</td>\n",
              "      <td>0</td>\n",
              "      <td>0</td>\n",
              "    </tr>\n",
              "    <tr>\n",
              "      <th>138043</th>\n",
              "      <td>VirusShare_260d9e2258aed4c8a3bbd703ec895822</td>\n",
              "      <td>260d9e2258aed4c8a3bbd703ec895822</td>\n",
              "      <td>332</td>\n",
              "      <td>224</td>\n",
              "      <td>33167</td>\n",
              "      <td>2</td>\n",
              "      <td>25</td>\n",
              "      <td>37888</td>\n",
              "      <td>185344</td>\n",
              "      <td>0</td>\n",
              "      <td>...</td>\n",
              "      <td>26</td>\n",
              "      <td>3.377663</td>\n",
              "      <td>2.031619</td>\n",
              "      <td>5.050074</td>\n",
              "      <td>6905.846154</td>\n",
              "      <td>44</td>\n",
              "      <td>67624</td>\n",
              "      <td>0</td>\n",
              "      <td>15</td>\n",
              "      <td>0</td>\n",
              "    </tr>\n",
              "    <tr>\n",
              "      <th>138044</th>\n",
              "      <td>VirusShare_8d088a51b7d225c9f5d11d239791ec3f</td>\n",
              "      <td>8d088a51b7d225c9f5d11d239791ec3f</td>\n",
              "      <td>332</td>\n",
              "      <td>224</td>\n",
              "      <td>258</td>\n",
              "      <td>10</td>\n",
              "      <td>0</td>\n",
              "      <td>118272</td>\n",
              "      <td>380416</td>\n",
              "      <td>0</td>\n",
              "      <td>...</td>\n",
              "      <td>22</td>\n",
              "      <td>6.825406</td>\n",
              "      <td>2.617026</td>\n",
              "      <td>7.990487</td>\n",
              "      <td>14981.909091</td>\n",
              "      <td>48</td>\n",
              "      <td>22648</td>\n",
              "      <td>72</td>\n",
              "      <td>14</td>\n",
              "      <td>0</td>\n",
              "    </tr>\n",
              "    <tr>\n",
              "      <th>138045</th>\n",
              "      <td>VirusShare_4286dccf67ca220fe67635388229a9f3</td>\n",
              "      <td>4286dccf67ca220fe67635388229a9f3</td>\n",
              "      <td>332</td>\n",
              "      <td>224</td>\n",
              "      <td>33166</td>\n",
              "      <td>2</td>\n",
              "      <td>25</td>\n",
              "      <td>49152</td>\n",
              "      <td>16896</td>\n",
              "      <td>0</td>\n",
              "      <td>...</td>\n",
              "      <td>10</td>\n",
              "      <td>3.421627</td>\n",
              "      <td>2.060964</td>\n",
              "      <td>4.739744</td>\n",
              "      <td>601.600000</td>\n",
              "      <td>16</td>\n",
              "      <td>2216</td>\n",
              "      <td>0</td>\n",
              "      <td>0</td>\n",
              "      <td>0</td>\n",
              "    </tr>\n",
              "    <tr>\n",
              "      <th>138046</th>\n",
              "      <td>VirusShare_d7648eae45f09b3adb75127f43be6d11</td>\n",
              "      <td>d7648eae45f09b3adb75127f43be6d11</td>\n",
              "      <td>332</td>\n",
              "      <td>224</td>\n",
              "      <td>258</td>\n",
              "      <td>11</td>\n",
              "      <td>0</td>\n",
              "      <td>111616</td>\n",
              "      <td>468480</td>\n",
              "      <td>0</td>\n",
              "      <td>...</td>\n",
              "      <td>4</td>\n",
              "      <td>4.407252</td>\n",
              "      <td>1.980482</td>\n",
              "      <td>6.115374</td>\n",
              "      <td>96625.000000</td>\n",
              "      <td>20</td>\n",
              "      <td>318464</td>\n",
              "      <td>72</td>\n",
              "      <td>0</td>\n",
              "      <td>0</td>\n",
              "    </tr>\n",
              "  </tbody>\n",
              "</table>\n",
              "<p>138047 rows × 57 columns</p>\n",
              "</div>\n",
              "    <div class=\"colab-df-buttons\">\n",
              "\n",
              "  <div class=\"colab-df-container\">\n",
              "    <button class=\"colab-df-convert\" onclick=\"convertToInteractive('df-2d8a7dde-c539-4a56-a325-87388eba4b3a')\"\n",
              "            title=\"Convert this dataframe to an interactive table.\"\n",
              "            style=\"display:none;\">\n",
              "\n",
              "  <svg xmlns=\"http://www.w3.org/2000/svg\" height=\"24px\" viewBox=\"0 -960 960 960\">\n",
              "    <path d=\"M120-120v-720h720v720H120Zm60-500h600v-160H180v160Zm220 220h160v-160H400v160Zm0 220h160v-160H400v160ZM180-400h160v-160H180v160Zm440 0h160v-160H620v160ZM180-180h160v-160H180v160Zm440 0h160v-160H620v160Z\"/>\n",
              "  </svg>\n",
              "    </button>\n",
              "\n",
              "  <style>\n",
              "    .colab-df-container {\n",
              "      display:flex;\n",
              "      gap: 12px;\n",
              "    }\n",
              "\n",
              "    .colab-df-convert {\n",
              "      background-color: #E8F0FE;\n",
              "      border: none;\n",
              "      border-radius: 50%;\n",
              "      cursor: pointer;\n",
              "      display: none;\n",
              "      fill: #1967D2;\n",
              "      height: 32px;\n",
              "      padding: 0 0 0 0;\n",
              "      width: 32px;\n",
              "    }\n",
              "\n",
              "    .colab-df-convert:hover {\n",
              "      background-color: #E2EBFA;\n",
              "      box-shadow: 0px 1px 2px rgba(60, 64, 67, 0.3), 0px 1px 3px 1px rgba(60, 64, 67, 0.15);\n",
              "      fill: #174EA6;\n",
              "    }\n",
              "\n",
              "    .colab-df-buttons div {\n",
              "      margin-bottom: 4px;\n",
              "    }\n",
              "\n",
              "    [theme=dark] .colab-df-convert {\n",
              "      background-color: #3B4455;\n",
              "      fill: #D2E3FC;\n",
              "    }\n",
              "\n",
              "    [theme=dark] .colab-df-convert:hover {\n",
              "      background-color: #434B5C;\n",
              "      box-shadow: 0px 1px 3px 1px rgba(0, 0, 0, 0.15);\n",
              "      filter: drop-shadow(0px 1px 2px rgba(0, 0, 0, 0.3));\n",
              "      fill: #FFFFFF;\n",
              "    }\n",
              "  </style>\n",
              "\n",
              "    <script>\n",
              "      const buttonEl =\n",
              "        document.querySelector('#df-2d8a7dde-c539-4a56-a325-87388eba4b3a button.colab-df-convert');\n",
              "      buttonEl.style.display =\n",
              "        google.colab.kernel.accessAllowed ? 'block' : 'none';\n",
              "\n",
              "      async function convertToInteractive(key) {\n",
              "        const element = document.querySelector('#df-2d8a7dde-c539-4a56-a325-87388eba4b3a');\n",
              "        const dataTable =\n",
              "          await google.colab.kernel.invokeFunction('convertToInteractive',\n",
              "                                                    [key], {});\n",
              "        if (!dataTable) return;\n",
              "\n",
              "        const docLinkHtml = 'Like what you see? Visit the ' +\n",
              "          '<a target=\"_blank\" href=https://colab.research.google.com/notebooks/data_table.ipynb>data table notebook</a>'\n",
              "          + ' to learn more about interactive tables.';\n",
              "        element.innerHTML = '';\n",
              "        dataTable['output_type'] = 'display_data';\n",
              "        await google.colab.output.renderOutput(dataTable, element);\n",
              "        const docLink = document.createElement('div');\n",
              "        docLink.innerHTML = docLinkHtml;\n",
              "        element.appendChild(docLink);\n",
              "      }\n",
              "    </script>\n",
              "  </div>\n",
              "\n",
              "\n",
              "<div id=\"df-f0e9cf50-9a95-4b59-8250-5feb491081c9\">\n",
              "  <button class=\"colab-df-quickchart\" onclick=\"quickchart('df-f0e9cf50-9a95-4b59-8250-5feb491081c9')\"\n",
              "            title=\"Suggest charts\"\n",
              "            style=\"display:none;\">\n",
              "\n",
              "<svg xmlns=\"http://www.w3.org/2000/svg\" height=\"24px\"viewBox=\"0 0 24 24\"\n",
              "     width=\"24px\">\n",
              "    <g>\n",
              "        <path d=\"M19 3H5c-1.1 0-2 .9-2 2v14c0 1.1.9 2 2 2h14c1.1 0 2-.9 2-2V5c0-1.1-.9-2-2-2zM9 17H7v-7h2v7zm4 0h-2V7h2v10zm4 0h-2v-4h2v4z\"/>\n",
              "    </g>\n",
              "</svg>\n",
              "  </button>\n",
              "\n",
              "<style>\n",
              "  .colab-df-quickchart {\n",
              "      --bg-color: #E8F0FE;\n",
              "      --fill-color: #1967D2;\n",
              "      --hover-bg-color: #E2EBFA;\n",
              "      --hover-fill-color: #174EA6;\n",
              "      --disabled-fill-color: #AAA;\n",
              "      --disabled-bg-color: #DDD;\n",
              "  }\n",
              "\n",
              "  [theme=dark] .colab-df-quickchart {\n",
              "      --bg-color: #3B4455;\n",
              "      --fill-color: #D2E3FC;\n",
              "      --hover-bg-color: #434B5C;\n",
              "      --hover-fill-color: #FFFFFF;\n",
              "      --disabled-bg-color: #3B4455;\n",
              "      --disabled-fill-color: #666;\n",
              "  }\n",
              "\n",
              "  .colab-df-quickchart {\n",
              "    background-color: var(--bg-color);\n",
              "    border: none;\n",
              "    border-radius: 50%;\n",
              "    cursor: pointer;\n",
              "    display: none;\n",
              "    fill: var(--fill-color);\n",
              "    height: 32px;\n",
              "    padding: 0;\n",
              "    width: 32px;\n",
              "  }\n",
              "\n",
              "  .colab-df-quickchart:hover {\n",
              "    background-color: var(--hover-bg-color);\n",
              "    box-shadow: 0 1px 2px rgba(60, 64, 67, 0.3), 0 1px 3px 1px rgba(60, 64, 67, 0.15);\n",
              "    fill: var(--button-hover-fill-color);\n",
              "  }\n",
              "\n",
              "  .colab-df-quickchart-complete:disabled,\n",
              "  .colab-df-quickchart-complete:disabled:hover {\n",
              "    background-color: var(--disabled-bg-color);\n",
              "    fill: var(--disabled-fill-color);\n",
              "    box-shadow: none;\n",
              "  }\n",
              "\n",
              "  .colab-df-spinner {\n",
              "    border: 2px solid var(--fill-color);\n",
              "    border-color: transparent;\n",
              "    border-bottom-color: var(--fill-color);\n",
              "    animation:\n",
              "      spin 1s steps(1) infinite;\n",
              "  }\n",
              "\n",
              "  @keyframes spin {\n",
              "    0% {\n",
              "      border-color: transparent;\n",
              "      border-bottom-color: var(--fill-color);\n",
              "      border-left-color: var(--fill-color);\n",
              "    }\n",
              "    20% {\n",
              "      border-color: transparent;\n",
              "      border-left-color: var(--fill-color);\n",
              "      border-top-color: var(--fill-color);\n",
              "    }\n",
              "    30% {\n",
              "      border-color: transparent;\n",
              "      border-left-color: var(--fill-color);\n",
              "      border-top-color: var(--fill-color);\n",
              "      border-right-color: var(--fill-color);\n",
              "    }\n",
              "    40% {\n",
              "      border-color: transparent;\n",
              "      border-right-color: var(--fill-color);\n",
              "      border-top-color: var(--fill-color);\n",
              "    }\n",
              "    60% {\n",
              "      border-color: transparent;\n",
              "      border-right-color: var(--fill-color);\n",
              "    }\n",
              "    80% {\n",
              "      border-color: transparent;\n",
              "      border-right-color: var(--fill-color);\n",
              "      border-bottom-color: var(--fill-color);\n",
              "    }\n",
              "    90% {\n",
              "      border-color: transparent;\n",
              "      border-bottom-color: var(--fill-color);\n",
              "    }\n",
              "  }\n",
              "</style>\n",
              "\n",
              "  <script>\n",
              "    async function quickchart(key) {\n",
              "      const quickchartButtonEl =\n",
              "        document.querySelector('#' + key + ' button');\n",
              "      quickchartButtonEl.disabled = true;  // To prevent multiple clicks.\n",
              "      quickchartButtonEl.classList.add('colab-df-spinner');\n",
              "      try {\n",
              "        const charts = await google.colab.kernel.invokeFunction(\n",
              "            'suggestCharts', [key], {});\n",
              "      } catch (error) {\n",
              "        console.error('Error during call to suggestCharts:', error);\n",
              "      }\n",
              "      quickchartButtonEl.classList.remove('colab-df-spinner');\n",
              "      quickchartButtonEl.classList.add('colab-df-quickchart-complete');\n",
              "    }\n",
              "    (() => {\n",
              "      let quickchartButtonEl =\n",
              "        document.querySelector('#df-f0e9cf50-9a95-4b59-8250-5feb491081c9 button');\n",
              "      quickchartButtonEl.style.display =\n",
              "        google.colab.kernel.accessAllowed ? 'block' : 'none';\n",
              "    })();\n",
              "  </script>\n",
              "</div>\n",
              "\n",
              "  <div id=\"id_34b33e21-dd93-4db4-8d6b-20d53e297a35\">\n",
              "    <style>\n",
              "      .colab-df-generate {\n",
              "        background-color: #E8F0FE;\n",
              "        border: none;\n",
              "        border-radius: 50%;\n",
              "        cursor: pointer;\n",
              "        display: none;\n",
              "        fill: #1967D2;\n",
              "        height: 32px;\n",
              "        padding: 0 0 0 0;\n",
              "        width: 32px;\n",
              "      }\n",
              "\n",
              "      .colab-df-generate:hover {\n",
              "        background-color: #E2EBFA;\n",
              "        box-shadow: 0px 1px 2px rgba(60, 64, 67, 0.3), 0px 1px 3px 1px rgba(60, 64, 67, 0.15);\n",
              "        fill: #174EA6;\n",
              "      }\n",
              "\n",
              "      [theme=dark] .colab-df-generate {\n",
              "        background-color: #3B4455;\n",
              "        fill: #D2E3FC;\n",
              "      }\n",
              "\n",
              "      [theme=dark] .colab-df-generate:hover {\n",
              "        background-color: #434B5C;\n",
              "        box-shadow: 0px 1px 3px 1px rgba(0, 0, 0, 0.15);\n",
              "        filter: drop-shadow(0px 1px 2px rgba(0, 0, 0, 0.3));\n",
              "        fill: #FFFFFF;\n",
              "      }\n",
              "    </style>\n",
              "    <button class=\"colab-df-generate\" onclick=\"generateWithVariable('dataset')\"\n",
              "            title=\"Generate code using this dataframe.\"\n",
              "            style=\"display:none;\">\n",
              "\n",
              "  <svg xmlns=\"http://www.w3.org/2000/svg\" height=\"24px\"viewBox=\"0 0 24 24\"\n",
              "       width=\"24px\">\n",
              "    <path d=\"M7,19H8.4L18.45,9,17,7.55,7,17.6ZM5,21V16.75L18.45,3.32a2,2,0,0,1,2.83,0l1.4,1.43a1.91,1.91,0,0,1,.58,1.4,1.91,1.91,0,0,1-.58,1.4L9.25,21ZM18.45,9,17,7.55Zm-12,3A5.31,5.31,0,0,0,4.9,8.1,5.31,5.31,0,0,0,1,6.5,5.31,5.31,0,0,0,4.9,4.9,5.31,5.31,0,0,0,6.5,1,5.31,5.31,0,0,0,8.1,4.9,5.31,5.31,0,0,0,12,6.5,5.46,5.46,0,0,0,6.5,12Z\"/>\n",
              "  </svg>\n",
              "    </button>\n",
              "    <script>\n",
              "      (() => {\n",
              "      const buttonEl =\n",
              "        document.querySelector('#id_34b33e21-dd93-4db4-8d6b-20d53e297a35 button.colab-df-generate');\n",
              "      buttonEl.style.display =\n",
              "        google.colab.kernel.accessAllowed ? 'block' : 'none';\n",
              "\n",
              "      buttonEl.onclick = () => {\n",
              "        google.colab.notebook.generateWithVariable('dataset');\n",
              "      }\n",
              "      })();\n",
              "    </script>\n",
              "  </div>\n",
              "\n",
              "    </div>\n",
              "  </div>\n"
            ],
            "application/vnd.google.colaboratory.intrinsic+json": {
              "type": "dataframe",
              "variable_name": "dataset"
            }
          },
          "metadata": {},
          "execution_count": 8
        }
      ],
      "source": [
        "dataset"
      ]
    },
    {
      "cell_type": "code",
      "execution_count": 9,
      "id": "onieOPgezM8r",
      "metadata": {
        "colab": {
          "base_uri": "https://localhost:8080/"
        },
        "id": "onieOPgezM8r",
        "outputId": "9559e2f9-8e15-4030-f168-10d31c9b2196"
      },
      "outputs": [
        {
          "output_type": "execute_result",
          "data": {
            "text/plain": [
              "Index(['Name', 'md5', 'Machine', 'SizeOfOptionalHeader', 'Characteristics',\n",
              "       'MajorLinkerVersion', 'MinorLinkerVersion', 'SizeOfCode',\n",
              "       'SizeOfInitializedData', 'SizeOfUninitializedData',\n",
              "       'AddressOfEntryPoint', 'BaseOfCode', 'BaseOfData', 'ImageBase',\n",
              "       'SectionAlignment', 'FileAlignment', 'MajorOperatingSystemVersion',\n",
              "       'MinorOperatingSystemVersion', 'MajorImageVersion', 'MinorImageVersion',\n",
              "       'MajorSubsystemVersion', 'MinorSubsystemVersion', 'SizeOfImage',\n",
              "       'SizeOfHeaders', 'CheckSum', 'Subsystem', 'DllCharacteristics',\n",
              "       'SizeOfStackReserve', 'SizeOfStackCommit', 'SizeOfHeapReserve',\n",
              "       'SizeOfHeapCommit', 'LoaderFlags', 'NumberOfRvaAndSizes', 'SectionsNb',\n",
              "       'SectionsMeanEntropy', 'SectionsMinEntropy', 'SectionsMaxEntropy',\n",
              "       'SectionsMeanRawsize', 'SectionsMinRawsize', 'SectionMaxRawsize',\n",
              "       'SectionsMeanVirtualsize', 'SectionsMinVirtualsize',\n",
              "       'SectionMaxVirtualsize', 'ImportsNbDLL', 'ImportsNb',\n",
              "       'ImportsNbOrdinal', 'ExportNb', 'ResourcesNb', 'ResourcesMeanEntropy',\n",
              "       'ResourcesMinEntropy', 'ResourcesMaxEntropy', 'ResourcesMeanSize',\n",
              "       'ResourcesMinSize', 'ResourcesMaxSize', 'LoadConfigurationSize',\n",
              "       'VersionInformationSize', 'legitimate'],\n",
              "      dtype='object')"
            ]
          },
          "metadata": {},
          "execution_count": 9
        }
      ],
      "source": [
        "col = dataset.columns\n",
        "dataset.columns"
      ]
    },
    {
      "cell_type": "code",
      "execution_count": 10,
      "id": "g7ga-YLTHVQe",
      "metadata": {
        "colab": {
          "base_uri": "https://localhost:8080/"
        },
        "id": "g7ga-YLTHVQe",
        "outputId": "45b3f267-36e4-4b86-d205-5ec387028acc"
      },
      "outputs": [
        {
          "output_type": "execute_result",
          "data": {
            "text/plain": [
              "57"
            ]
          },
          "metadata": {},
          "execution_count": 10
        }
      ],
      "source": [
        "len(col)"
      ]
    },
    {
      "cell_type": "code",
      "execution_count": 11,
      "id": "J2eNRUb6YFFM",
      "metadata": {
        "colab": {
          "base_uri": "https://localhost:8080/"
        },
        "id": "J2eNRUb6YFFM",
        "outputId": "9eafbd8b-b151-49cb-8092-2cb4d217ec4f"
      },
      "outputs": [
        {
          "output_type": "stream",
          "name": "stdout",
          "text": [
            "Number of null values in each column:\n",
            "Name                           0\n",
            "md5                            0\n",
            "Machine                        0\n",
            "SizeOfOptionalHeader           0\n",
            "Characteristics                0\n",
            "MajorLinkerVersion             0\n",
            "MinorLinkerVersion             0\n",
            "SizeOfCode                     0\n",
            "SizeOfInitializedData          0\n",
            "SizeOfUninitializedData        0\n",
            "AddressOfEntryPoint            0\n",
            "BaseOfCode                     0\n",
            "BaseOfData                     0\n",
            "ImageBase                      0\n",
            "SectionAlignment               0\n",
            "FileAlignment                  0\n",
            "MajorOperatingSystemVersion    0\n",
            "MinorOperatingSystemVersion    0\n",
            "MajorImageVersion              0\n",
            "MinorImageVersion              0\n",
            "MajorSubsystemVersion          0\n",
            "MinorSubsystemVersion          0\n",
            "SizeOfImage                    0\n",
            "SizeOfHeaders                  0\n",
            "CheckSum                       0\n",
            "Subsystem                      0\n",
            "DllCharacteristics             0\n",
            "SizeOfStackReserve             0\n",
            "SizeOfStackCommit              0\n",
            "SizeOfHeapReserve              0\n",
            "SizeOfHeapCommit               0\n",
            "LoaderFlags                    0\n",
            "NumberOfRvaAndSizes            0\n",
            "SectionsNb                     0\n",
            "SectionsMeanEntropy            0\n",
            "SectionsMinEntropy             0\n",
            "SectionsMaxEntropy             0\n",
            "SectionsMeanRawsize            0\n",
            "SectionsMinRawsize             0\n",
            "SectionMaxRawsize              0\n",
            "SectionsMeanVirtualsize        0\n",
            "SectionsMinVirtualsize         0\n",
            "SectionMaxVirtualsize          0\n",
            "ImportsNbDLL                   0\n",
            "ImportsNb                      0\n",
            "ImportsNbOrdinal               0\n",
            "ExportNb                       0\n",
            "ResourcesNb                    0\n",
            "ResourcesMeanEntropy           0\n",
            "ResourcesMinEntropy            0\n",
            "ResourcesMaxEntropy            0\n",
            "ResourcesMeanSize              0\n",
            "ResourcesMinSize               0\n",
            "ResourcesMaxSize               0\n",
            "LoadConfigurationSize          0\n",
            "VersionInformationSize         0\n",
            "legitimate                     0\n",
            "dtype: int64\n"
          ]
        }
      ],
      "source": [
        "null_counts_sum = dataset.isnull().sum()\n",
        "\n",
        "# Display the number of null values for each column\n",
        "print(\"Number of null values in each column:\")\n",
        "print(null_counts_sum)"
      ]
    },
    {
      "cell_type": "code",
      "execution_count": 12,
      "id": "H6n9zHLmYd4t",
      "metadata": {
        "colab": {
          "base_uri": "https://localhost:8080/"
        },
        "id": "H6n9zHLmYd4t",
        "outputId": "ad94dffc-c04c-46ce-9b7a-007ec5abc3f6"
      },
      "outputs": [
        {
          "output_type": "stream",
          "name": "stdout",
          "text": [
            "Data types of columns:\n",
            "Name                            object\n",
            "md5                             object\n",
            "Machine                          int64\n",
            "SizeOfOptionalHeader             int64\n",
            "Characteristics                  int64\n",
            "MajorLinkerVersion               int64\n",
            "MinorLinkerVersion               int64\n",
            "SizeOfCode                       int64\n",
            "SizeOfInitializedData            int64\n",
            "SizeOfUninitializedData          int64\n",
            "AddressOfEntryPoint              int64\n",
            "BaseOfCode                       int64\n",
            "BaseOfData                       int64\n",
            "ImageBase                      float64\n",
            "SectionAlignment                 int64\n",
            "FileAlignment                    int64\n",
            "MajorOperatingSystemVersion      int64\n",
            "MinorOperatingSystemVersion      int64\n",
            "MajorImageVersion                int64\n",
            "MinorImageVersion                int64\n",
            "MajorSubsystemVersion            int64\n",
            "MinorSubsystemVersion            int64\n",
            "SizeOfImage                      int64\n",
            "SizeOfHeaders                    int64\n",
            "CheckSum                         int64\n",
            "Subsystem                        int64\n",
            "DllCharacteristics               int64\n",
            "SizeOfStackReserve               int64\n",
            "SizeOfStackCommit                int64\n",
            "SizeOfHeapReserve                int64\n",
            "SizeOfHeapCommit                 int64\n",
            "LoaderFlags                      int64\n",
            "NumberOfRvaAndSizes              int64\n",
            "SectionsNb                       int64\n",
            "SectionsMeanEntropy            float64\n",
            "SectionsMinEntropy             float64\n",
            "SectionsMaxEntropy             float64\n",
            "SectionsMeanRawsize            float64\n",
            "SectionsMinRawsize               int64\n",
            "SectionMaxRawsize                int64\n",
            "SectionsMeanVirtualsize        float64\n",
            "SectionsMinVirtualsize           int64\n",
            "SectionMaxVirtualsize            int64\n",
            "ImportsNbDLL                     int64\n",
            "ImportsNb                        int64\n",
            "ImportsNbOrdinal                 int64\n",
            "ExportNb                         int64\n",
            "ResourcesNb                      int64\n",
            "ResourcesMeanEntropy           float64\n",
            "ResourcesMinEntropy            float64\n",
            "ResourcesMaxEntropy            float64\n",
            "ResourcesMeanSize              float64\n",
            "ResourcesMinSize                 int64\n",
            "ResourcesMaxSize                 int64\n",
            "LoadConfigurationSize            int64\n",
            "VersionInformationSize           int64\n",
            "legitimate                       int64\n",
            "dtype: object\n"
          ]
        }
      ],
      "source": [
        "data_types = dataset.dtypes\n",
        "\n",
        "# Display the data types of each column\n",
        "print(\"Data types of columns:\")\n",
        "print(data_types)"
      ]
    },
    {
      "cell_type": "code",
      "execution_count": 13,
      "id": "I8yZjNY-Yk92",
      "metadata": {
        "colab": {
          "base_uri": "https://localhost:8080/",
          "height": 350
        },
        "id": "I8yZjNY-Yk92",
        "outputId": "5d1c9fd0-0099-44aa-fb2f-9952616bdbba"
      },
      "outputs": [
        {
          "output_type": "execute_result",
          "data": {
            "text/plain": [
              "             Machine  SizeOfOptionalHeader  Characteristics  \\\n",
              "count  138047.000000         138047.000000    138047.000000   \n",
              "mean     4259.069274            225.845632      4444.145994   \n",
              "std     10880.347245              5.121399      8186.782524   \n",
              "min       332.000000            224.000000         2.000000   \n",
              "25%       332.000000            224.000000       258.000000   \n",
              "50%       332.000000            224.000000       258.000000   \n",
              "75%       332.000000            224.000000      8226.000000   \n",
              "max     34404.000000            352.000000     49551.000000   \n",
              "\n",
              "       MajorLinkerVersion  MinorLinkerVersion    SizeOfCode  \\\n",
              "count       138047.000000       138047.000000  1.380470e+05   \n",
              "mean             8.619774            3.819286  2.425956e+05   \n",
              "std              4.088757           11.862675  5.754485e+06   \n",
              "min              0.000000            0.000000  0.000000e+00   \n",
              "25%              8.000000            0.000000  3.020800e+04   \n",
              "50%              9.000000            0.000000  1.136640e+05   \n",
              "75%             10.000000            0.000000  1.203200e+05   \n",
              "max            255.000000          255.000000  1.818587e+09   \n",
              "\n",
              "       SizeOfInitializedData  SizeOfUninitializedData  AddressOfEntryPoint  \\\n",
              "count           1.380470e+05             1.380470e+05         1.380470e+05   \n",
              "mean            4.504867e+05             1.009525e+05         1.719561e+05   \n",
              "std             2.101599e+07             1.635288e+07         3.430553e+06   \n",
              "min             0.000000e+00             0.000000e+00         0.000000e+00   \n",
              "25%             2.457600e+04             0.000000e+00         1.272100e+04   \n",
              "50%             2.631680e+05             0.000000e+00         5.288300e+04   \n",
              "75%             3.850240e+05             0.000000e+00         6.157800e+04   \n",
              "max             4.294966e+09             4.294941e+09         1.074484e+09   \n",
              "\n",
              "         BaseOfCode  ...    ResourcesNb  ResourcesMeanEntropy  \\\n",
              "count  1.380470e+05  ...  138047.000000         138047.000000   \n",
              "mean   5.779845e+04  ...      22.050700              4.000127   \n",
              "std    5.527658e+06  ...     136.494244              1.112981   \n",
              "min    0.000000e+00  ...       0.000000              0.000000   \n",
              "25%    4.096000e+03  ...       5.000000              3.458505   \n",
              "50%    4.096000e+03  ...       6.000000              3.729824   \n",
              "75%    4.096000e+03  ...      13.000000              4.233051   \n",
              "max    2.028711e+09  ...    7694.000000              7.999723   \n",
              "\n",
              "       ResourcesMinEntropy  ResourcesMaxEntropy  ResourcesMeanSize  \\\n",
              "count        138047.000000        138047.000000       1.380470e+05   \n",
              "mean              2.434541             5.521610       5.545093e+04   \n",
              "std               0.815577             1.597403       7.799163e+06   \n",
              "min               0.000000             0.000000       0.000000e+00   \n",
              "25%               2.178748             4.828706       9.560000e+02   \n",
              "50%               2.458492             5.317552       2.708154e+03   \n",
              "75%               2.696833             6.502239       6.558429e+03   \n",
              "max               7.999723             8.000000       2.415919e+09   \n",
              "\n",
              "       ResourcesMinSize  ResourcesMaxSize  LoadConfigurationSize  \\\n",
              "count      1.380470e+05      1.380470e+05           1.380470e+05   \n",
              "mean       1.818082e+04      2.465903e+05           4.656750e+05   \n",
              "std        6.502369e+06      2.124860e+07           2.608987e+07   \n",
              "min        0.000000e+00      0.000000e+00           0.000000e+00   \n",
              "25%        4.800000e+01      2.216000e+03           0.000000e+00   \n",
              "50%        4.800000e+01      9.640000e+03           7.200000e+01   \n",
              "75%        1.320000e+02      2.378000e+04           7.200000e+01   \n",
              "max        2.415919e+09      4.294903e+09           4.294967e+09   \n",
              "\n",
              "       VersionInformationSize     legitimate  \n",
              "count           138047.000000  138047.000000  \n",
              "mean                12.363115       0.299340  \n",
              "std                  6.798878       0.457971  \n",
              "min                  0.000000       0.000000  \n",
              "25%                 13.000000       0.000000  \n",
              "50%                 15.000000       0.000000  \n",
              "75%                 16.000000       1.000000  \n",
              "max                 26.000000       1.000000  \n",
              "\n",
              "[8 rows x 55 columns]"
            ],
            "text/html": [
              "\n",
              "  <div id=\"df-b6b40597-d8bf-491d-8308-ddd925fc4724\" class=\"colab-df-container\">\n",
              "    <div>\n",
              "<style scoped>\n",
              "    .dataframe tbody tr th:only-of-type {\n",
              "        vertical-align: middle;\n",
              "    }\n",
              "\n",
              "    .dataframe tbody tr th {\n",
              "        vertical-align: top;\n",
              "    }\n",
              "\n",
              "    .dataframe thead th {\n",
              "        text-align: right;\n",
              "    }\n",
              "</style>\n",
              "<table border=\"1\" class=\"dataframe\">\n",
              "  <thead>\n",
              "    <tr style=\"text-align: right;\">\n",
              "      <th></th>\n",
              "      <th>Machine</th>\n",
              "      <th>SizeOfOptionalHeader</th>\n",
              "      <th>Characteristics</th>\n",
              "      <th>MajorLinkerVersion</th>\n",
              "      <th>MinorLinkerVersion</th>\n",
              "      <th>SizeOfCode</th>\n",
              "      <th>SizeOfInitializedData</th>\n",
              "      <th>SizeOfUninitializedData</th>\n",
              "      <th>AddressOfEntryPoint</th>\n",
              "      <th>BaseOfCode</th>\n",
              "      <th>...</th>\n",
              "      <th>ResourcesNb</th>\n",
              "      <th>ResourcesMeanEntropy</th>\n",
              "      <th>ResourcesMinEntropy</th>\n",
              "      <th>ResourcesMaxEntropy</th>\n",
              "      <th>ResourcesMeanSize</th>\n",
              "      <th>ResourcesMinSize</th>\n",
              "      <th>ResourcesMaxSize</th>\n",
              "      <th>LoadConfigurationSize</th>\n",
              "      <th>VersionInformationSize</th>\n",
              "      <th>legitimate</th>\n",
              "    </tr>\n",
              "  </thead>\n",
              "  <tbody>\n",
              "    <tr>\n",
              "      <th>count</th>\n",
              "      <td>138047.000000</td>\n",
              "      <td>138047.000000</td>\n",
              "      <td>138047.000000</td>\n",
              "      <td>138047.000000</td>\n",
              "      <td>138047.000000</td>\n",
              "      <td>1.380470e+05</td>\n",
              "      <td>1.380470e+05</td>\n",
              "      <td>1.380470e+05</td>\n",
              "      <td>1.380470e+05</td>\n",
              "      <td>1.380470e+05</td>\n",
              "      <td>...</td>\n",
              "      <td>138047.000000</td>\n",
              "      <td>138047.000000</td>\n",
              "      <td>138047.000000</td>\n",
              "      <td>138047.000000</td>\n",
              "      <td>1.380470e+05</td>\n",
              "      <td>1.380470e+05</td>\n",
              "      <td>1.380470e+05</td>\n",
              "      <td>1.380470e+05</td>\n",
              "      <td>138047.000000</td>\n",
              "      <td>138047.000000</td>\n",
              "    </tr>\n",
              "    <tr>\n",
              "      <th>mean</th>\n",
              "      <td>4259.069274</td>\n",
              "      <td>225.845632</td>\n",
              "      <td>4444.145994</td>\n",
              "      <td>8.619774</td>\n",
              "      <td>3.819286</td>\n",
              "      <td>2.425956e+05</td>\n",
              "      <td>4.504867e+05</td>\n",
              "      <td>1.009525e+05</td>\n",
              "      <td>1.719561e+05</td>\n",
              "      <td>5.779845e+04</td>\n",
              "      <td>...</td>\n",
              "      <td>22.050700</td>\n",
              "      <td>4.000127</td>\n",
              "      <td>2.434541</td>\n",
              "      <td>5.521610</td>\n",
              "      <td>5.545093e+04</td>\n",
              "      <td>1.818082e+04</td>\n",
              "      <td>2.465903e+05</td>\n",
              "      <td>4.656750e+05</td>\n",
              "      <td>12.363115</td>\n",
              "      <td>0.299340</td>\n",
              "    </tr>\n",
              "    <tr>\n",
              "      <th>std</th>\n",
              "      <td>10880.347245</td>\n",
              "      <td>5.121399</td>\n",
              "      <td>8186.782524</td>\n",
              "      <td>4.088757</td>\n",
              "      <td>11.862675</td>\n",
              "      <td>5.754485e+06</td>\n",
              "      <td>2.101599e+07</td>\n",
              "      <td>1.635288e+07</td>\n",
              "      <td>3.430553e+06</td>\n",
              "      <td>5.527658e+06</td>\n",
              "      <td>...</td>\n",
              "      <td>136.494244</td>\n",
              "      <td>1.112981</td>\n",
              "      <td>0.815577</td>\n",
              "      <td>1.597403</td>\n",
              "      <td>7.799163e+06</td>\n",
              "      <td>6.502369e+06</td>\n",
              "      <td>2.124860e+07</td>\n",
              "      <td>2.608987e+07</td>\n",
              "      <td>6.798878</td>\n",
              "      <td>0.457971</td>\n",
              "    </tr>\n",
              "    <tr>\n",
              "      <th>min</th>\n",
              "      <td>332.000000</td>\n",
              "      <td>224.000000</td>\n",
              "      <td>2.000000</td>\n",
              "      <td>0.000000</td>\n",
              "      <td>0.000000</td>\n",
              "      <td>0.000000e+00</td>\n",
              "      <td>0.000000e+00</td>\n",
              "      <td>0.000000e+00</td>\n",
              "      <td>0.000000e+00</td>\n",
              "      <td>0.000000e+00</td>\n",
              "      <td>...</td>\n",
              "      <td>0.000000</td>\n",
              "      <td>0.000000</td>\n",
              "      <td>0.000000</td>\n",
              "      <td>0.000000</td>\n",
              "      <td>0.000000e+00</td>\n",
              "      <td>0.000000e+00</td>\n",
              "      <td>0.000000e+00</td>\n",
              "      <td>0.000000e+00</td>\n",
              "      <td>0.000000</td>\n",
              "      <td>0.000000</td>\n",
              "    </tr>\n",
              "    <tr>\n",
              "      <th>25%</th>\n",
              "      <td>332.000000</td>\n",
              "      <td>224.000000</td>\n",
              "      <td>258.000000</td>\n",
              "      <td>8.000000</td>\n",
              "      <td>0.000000</td>\n",
              "      <td>3.020800e+04</td>\n",
              "      <td>2.457600e+04</td>\n",
              "      <td>0.000000e+00</td>\n",
              "      <td>1.272100e+04</td>\n",
              "      <td>4.096000e+03</td>\n",
              "      <td>...</td>\n",
              "      <td>5.000000</td>\n",
              "      <td>3.458505</td>\n",
              "      <td>2.178748</td>\n",
              "      <td>4.828706</td>\n",
              "      <td>9.560000e+02</td>\n",
              "      <td>4.800000e+01</td>\n",
              "      <td>2.216000e+03</td>\n",
              "      <td>0.000000e+00</td>\n",
              "      <td>13.000000</td>\n",
              "      <td>0.000000</td>\n",
              "    </tr>\n",
              "    <tr>\n",
              "      <th>50%</th>\n",
              "      <td>332.000000</td>\n",
              "      <td>224.000000</td>\n",
              "      <td>258.000000</td>\n",
              "      <td>9.000000</td>\n",
              "      <td>0.000000</td>\n",
              "      <td>1.136640e+05</td>\n",
              "      <td>2.631680e+05</td>\n",
              "      <td>0.000000e+00</td>\n",
              "      <td>5.288300e+04</td>\n",
              "      <td>4.096000e+03</td>\n",
              "      <td>...</td>\n",
              "      <td>6.000000</td>\n",
              "      <td>3.729824</td>\n",
              "      <td>2.458492</td>\n",
              "      <td>5.317552</td>\n",
              "      <td>2.708154e+03</td>\n",
              "      <td>4.800000e+01</td>\n",
              "      <td>9.640000e+03</td>\n",
              "      <td>7.200000e+01</td>\n",
              "      <td>15.000000</td>\n",
              "      <td>0.000000</td>\n",
              "    </tr>\n",
              "    <tr>\n",
              "      <th>75%</th>\n",
              "      <td>332.000000</td>\n",
              "      <td>224.000000</td>\n",
              "      <td>8226.000000</td>\n",
              "      <td>10.000000</td>\n",
              "      <td>0.000000</td>\n",
              "      <td>1.203200e+05</td>\n",
              "      <td>3.850240e+05</td>\n",
              "      <td>0.000000e+00</td>\n",
              "      <td>6.157800e+04</td>\n",
              "      <td>4.096000e+03</td>\n",
              "      <td>...</td>\n",
              "      <td>13.000000</td>\n",
              "      <td>4.233051</td>\n",
              "      <td>2.696833</td>\n",
              "      <td>6.502239</td>\n",
              "      <td>6.558429e+03</td>\n",
              "      <td>1.320000e+02</td>\n",
              "      <td>2.378000e+04</td>\n",
              "      <td>7.200000e+01</td>\n",
              "      <td>16.000000</td>\n",
              "      <td>1.000000</td>\n",
              "    </tr>\n",
              "    <tr>\n",
              "      <th>max</th>\n",
              "      <td>34404.000000</td>\n",
              "      <td>352.000000</td>\n",
              "      <td>49551.000000</td>\n",
              "      <td>255.000000</td>\n",
              "      <td>255.000000</td>\n",
              "      <td>1.818587e+09</td>\n",
              "      <td>4.294966e+09</td>\n",
              "      <td>4.294941e+09</td>\n",
              "      <td>1.074484e+09</td>\n",
              "      <td>2.028711e+09</td>\n",
              "      <td>...</td>\n",
              "      <td>7694.000000</td>\n",
              "      <td>7.999723</td>\n",
              "      <td>7.999723</td>\n",
              "      <td>8.000000</td>\n",
              "      <td>2.415919e+09</td>\n",
              "      <td>2.415919e+09</td>\n",
              "      <td>4.294903e+09</td>\n",
              "      <td>4.294967e+09</td>\n",
              "      <td>26.000000</td>\n",
              "      <td>1.000000</td>\n",
              "    </tr>\n",
              "  </tbody>\n",
              "</table>\n",
              "<p>8 rows × 55 columns</p>\n",
              "</div>\n",
              "    <div class=\"colab-df-buttons\">\n",
              "\n",
              "  <div class=\"colab-df-container\">\n",
              "    <button class=\"colab-df-convert\" onclick=\"convertToInteractive('df-b6b40597-d8bf-491d-8308-ddd925fc4724')\"\n",
              "            title=\"Convert this dataframe to an interactive table.\"\n",
              "            style=\"display:none;\">\n",
              "\n",
              "  <svg xmlns=\"http://www.w3.org/2000/svg\" height=\"24px\" viewBox=\"0 -960 960 960\">\n",
              "    <path d=\"M120-120v-720h720v720H120Zm60-500h600v-160H180v160Zm220 220h160v-160H400v160Zm0 220h160v-160H400v160ZM180-400h160v-160H180v160Zm440 0h160v-160H620v160ZM180-180h160v-160H180v160Zm440 0h160v-160H620v160Z\"/>\n",
              "  </svg>\n",
              "    </button>\n",
              "\n",
              "  <style>\n",
              "    .colab-df-container {\n",
              "      display:flex;\n",
              "      gap: 12px;\n",
              "    }\n",
              "\n",
              "    .colab-df-convert {\n",
              "      background-color: #E8F0FE;\n",
              "      border: none;\n",
              "      border-radius: 50%;\n",
              "      cursor: pointer;\n",
              "      display: none;\n",
              "      fill: #1967D2;\n",
              "      height: 32px;\n",
              "      padding: 0 0 0 0;\n",
              "      width: 32px;\n",
              "    }\n",
              "\n",
              "    .colab-df-convert:hover {\n",
              "      background-color: #E2EBFA;\n",
              "      box-shadow: 0px 1px 2px rgba(60, 64, 67, 0.3), 0px 1px 3px 1px rgba(60, 64, 67, 0.15);\n",
              "      fill: #174EA6;\n",
              "    }\n",
              "\n",
              "    .colab-df-buttons div {\n",
              "      margin-bottom: 4px;\n",
              "    }\n",
              "\n",
              "    [theme=dark] .colab-df-convert {\n",
              "      background-color: #3B4455;\n",
              "      fill: #D2E3FC;\n",
              "    }\n",
              "\n",
              "    [theme=dark] .colab-df-convert:hover {\n",
              "      background-color: #434B5C;\n",
              "      box-shadow: 0px 1px 3px 1px rgba(0, 0, 0, 0.15);\n",
              "      filter: drop-shadow(0px 1px 2px rgba(0, 0, 0, 0.3));\n",
              "      fill: #FFFFFF;\n",
              "    }\n",
              "  </style>\n",
              "\n",
              "    <script>\n",
              "      const buttonEl =\n",
              "        document.querySelector('#df-b6b40597-d8bf-491d-8308-ddd925fc4724 button.colab-df-convert');\n",
              "      buttonEl.style.display =\n",
              "        google.colab.kernel.accessAllowed ? 'block' : 'none';\n",
              "\n",
              "      async function convertToInteractive(key) {\n",
              "        const element = document.querySelector('#df-b6b40597-d8bf-491d-8308-ddd925fc4724');\n",
              "        const dataTable =\n",
              "          await google.colab.kernel.invokeFunction('convertToInteractive',\n",
              "                                                    [key], {});\n",
              "        if (!dataTable) return;\n",
              "\n",
              "        const docLinkHtml = 'Like what you see? Visit the ' +\n",
              "          '<a target=\"_blank\" href=https://colab.research.google.com/notebooks/data_table.ipynb>data table notebook</a>'\n",
              "          + ' to learn more about interactive tables.';\n",
              "        element.innerHTML = '';\n",
              "        dataTable['output_type'] = 'display_data';\n",
              "        await google.colab.output.renderOutput(dataTable, element);\n",
              "        const docLink = document.createElement('div');\n",
              "        docLink.innerHTML = docLinkHtml;\n",
              "        element.appendChild(docLink);\n",
              "      }\n",
              "    </script>\n",
              "  </div>\n",
              "\n",
              "\n",
              "<div id=\"df-3dd2a3b8-e30f-4560-96e8-b0fd723a12be\">\n",
              "  <button class=\"colab-df-quickchart\" onclick=\"quickchart('df-3dd2a3b8-e30f-4560-96e8-b0fd723a12be')\"\n",
              "            title=\"Suggest charts\"\n",
              "            style=\"display:none;\">\n",
              "\n",
              "<svg xmlns=\"http://www.w3.org/2000/svg\" height=\"24px\"viewBox=\"0 0 24 24\"\n",
              "     width=\"24px\">\n",
              "    <g>\n",
              "        <path d=\"M19 3H5c-1.1 0-2 .9-2 2v14c0 1.1.9 2 2 2h14c1.1 0 2-.9 2-2V5c0-1.1-.9-2-2-2zM9 17H7v-7h2v7zm4 0h-2V7h2v10zm4 0h-2v-4h2v4z\"/>\n",
              "    </g>\n",
              "</svg>\n",
              "  </button>\n",
              "\n",
              "<style>\n",
              "  .colab-df-quickchart {\n",
              "      --bg-color: #E8F0FE;\n",
              "      --fill-color: #1967D2;\n",
              "      --hover-bg-color: #E2EBFA;\n",
              "      --hover-fill-color: #174EA6;\n",
              "      --disabled-fill-color: #AAA;\n",
              "      --disabled-bg-color: #DDD;\n",
              "  }\n",
              "\n",
              "  [theme=dark] .colab-df-quickchart {\n",
              "      --bg-color: #3B4455;\n",
              "      --fill-color: #D2E3FC;\n",
              "      --hover-bg-color: #434B5C;\n",
              "      --hover-fill-color: #FFFFFF;\n",
              "      --disabled-bg-color: #3B4455;\n",
              "      --disabled-fill-color: #666;\n",
              "  }\n",
              "\n",
              "  .colab-df-quickchart {\n",
              "    background-color: var(--bg-color);\n",
              "    border: none;\n",
              "    border-radius: 50%;\n",
              "    cursor: pointer;\n",
              "    display: none;\n",
              "    fill: var(--fill-color);\n",
              "    height: 32px;\n",
              "    padding: 0;\n",
              "    width: 32px;\n",
              "  }\n",
              "\n",
              "  .colab-df-quickchart:hover {\n",
              "    background-color: var(--hover-bg-color);\n",
              "    box-shadow: 0 1px 2px rgba(60, 64, 67, 0.3), 0 1px 3px 1px rgba(60, 64, 67, 0.15);\n",
              "    fill: var(--button-hover-fill-color);\n",
              "  }\n",
              "\n",
              "  .colab-df-quickchart-complete:disabled,\n",
              "  .colab-df-quickchart-complete:disabled:hover {\n",
              "    background-color: var(--disabled-bg-color);\n",
              "    fill: var(--disabled-fill-color);\n",
              "    box-shadow: none;\n",
              "  }\n",
              "\n",
              "  .colab-df-spinner {\n",
              "    border: 2px solid var(--fill-color);\n",
              "    border-color: transparent;\n",
              "    border-bottom-color: var(--fill-color);\n",
              "    animation:\n",
              "      spin 1s steps(1) infinite;\n",
              "  }\n",
              "\n",
              "  @keyframes spin {\n",
              "    0% {\n",
              "      border-color: transparent;\n",
              "      border-bottom-color: var(--fill-color);\n",
              "      border-left-color: var(--fill-color);\n",
              "    }\n",
              "    20% {\n",
              "      border-color: transparent;\n",
              "      border-left-color: var(--fill-color);\n",
              "      border-top-color: var(--fill-color);\n",
              "    }\n",
              "    30% {\n",
              "      border-color: transparent;\n",
              "      border-left-color: var(--fill-color);\n",
              "      border-top-color: var(--fill-color);\n",
              "      border-right-color: var(--fill-color);\n",
              "    }\n",
              "    40% {\n",
              "      border-color: transparent;\n",
              "      border-right-color: var(--fill-color);\n",
              "      border-top-color: var(--fill-color);\n",
              "    }\n",
              "    60% {\n",
              "      border-color: transparent;\n",
              "      border-right-color: var(--fill-color);\n",
              "    }\n",
              "    80% {\n",
              "      border-color: transparent;\n",
              "      border-right-color: var(--fill-color);\n",
              "      border-bottom-color: var(--fill-color);\n",
              "    }\n",
              "    90% {\n",
              "      border-color: transparent;\n",
              "      border-bottom-color: var(--fill-color);\n",
              "    }\n",
              "  }\n",
              "</style>\n",
              "\n",
              "  <script>\n",
              "    async function quickchart(key) {\n",
              "      const quickchartButtonEl =\n",
              "        document.querySelector('#' + key + ' button');\n",
              "      quickchartButtonEl.disabled = true;  // To prevent multiple clicks.\n",
              "      quickchartButtonEl.classList.add('colab-df-spinner');\n",
              "      try {\n",
              "        const charts = await google.colab.kernel.invokeFunction(\n",
              "            'suggestCharts', [key], {});\n",
              "      } catch (error) {\n",
              "        console.error('Error during call to suggestCharts:', error);\n",
              "      }\n",
              "      quickchartButtonEl.classList.remove('colab-df-spinner');\n",
              "      quickchartButtonEl.classList.add('colab-df-quickchart-complete');\n",
              "    }\n",
              "    (() => {\n",
              "      let quickchartButtonEl =\n",
              "        document.querySelector('#df-3dd2a3b8-e30f-4560-96e8-b0fd723a12be button');\n",
              "      quickchartButtonEl.style.display =\n",
              "        google.colab.kernel.accessAllowed ? 'block' : 'none';\n",
              "    })();\n",
              "  </script>\n",
              "</div>\n",
              "\n",
              "    </div>\n",
              "  </div>\n"
            ],
            "application/vnd.google.colaboratory.intrinsic+json": {
              "type": "dataframe"
            }
          },
          "metadata": {},
          "execution_count": 13
        }
      ],
      "source": [
        "dataset.describe()"
      ]
    },
    {
      "cell_type": "code",
      "execution_count": 14,
      "id": "UOR2lOIDxuIA",
      "metadata": {
        "id": "UOR2lOIDxuIA"
      },
      "outputs": [],
      "source": [
        "X = dataset.drop(['Name','md5','legitimate'],axis=1).values\n",
        "y = dataset['legitimate'].values"
      ]
    },
    {
      "cell_type": "markdown",
      "source": [
        "### Cross Validation"
      ],
      "metadata": {
        "id": "nNaPKOZFlYdN"
      },
      "id": "nNaPKOZFlYdN"
    },
    {
      "cell_type": "code",
      "execution_count": 15,
      "id": "Qacp_o3XjGHJ",
      "metadata": {
        "colab": {
          "base_uri": "https://localhost:8080/"
        },
        "id": "Qacp_o3XjGHJ",
        "outputId": "7e07ce05-ca94-4a5f-b3e8-db144659e1ad"
      },
      "outputs": [
        {
          "output_type": "stream",
          "name": "stdout",
          "text": [
            "Cross-validation Scores: [0.99300978 0.99221297 0.96620667 0.97200188 0.99710239]\n",
            "Mean Cross-validation Score: 0.984106738942045\n"
          ]
        }
      ],
      "source": [
        "import pandas as pd\n",
        "from sklearn.model_selection import cross_val_score\n",
        "from sklearn.model_selection import train_test_split\n",
        "from sklearn.ensemble import RandomForestClassifier\n",
        "\n",
        "# Split the dataset into features (X) and target variable (y)\n",
        "X = dataset.drop(columns=['Name', 'md5', 'legitimate'])  # Exclude non-predictive columns\n",
        "y = dataset['legitimate']\n",
        "\n",
        "# Initialize the RandomForestClassifier (replace with your preferred model)\n",
        "clf = RandomForestClassifier()\n",
        "\n",
        "# Perform cross-validation\n",
        "cv_scores = cross_val_score(clf, X, y, cv=5)  # Use 5-fold cross-validation (adjust as needed)\n",
        "\n",
        "# Print the cross-validation scores\n",
        "print(\"Cross-validation Scores:\", cv_scores)\n",
        "\n",
        "# Calculate and print the mean cross-validation score\n",
        "mean_cv_score = cv_scores.mean()\n",
        "print(\"Mean Cross-validation Score:\", mean_cv_score)\n"
      ]
    },
    {
      "cell_type": "markdown",
      "id": "DuVsgzfdT7ky",
      "metadata": {
        "id": "DuVsgzfdT7ky"
      },
      "source": [
        "# 1. Feature Selection: Extra Tree Classifier"
      ]
    },
    {
      "cell_type": "code",
      "execution_count": null,
      "id": "29b27621",
      "metadata": {
        "colab": {
          "base_uri": "https://localhost:8080/"
        },
        "id": "29b27621",
        "outputId": "0b8f63da-308c-4804-ed76-bf007cddfeb1"
      },
      "outputs": [
        {
          "output_type": "stream",
          "name": "stdout",
          "text": [
            "13\n",
            "1. DllCharacteristics (0.139589)\n",
            "2. Machine (0.130554)\n",
            "3. Characteristics (0.093908)\n",
            "4. VersionInformationSize (0.059802)\n",
            "5. Subsystem (0.055794)\n",
            "6. ImageBase (0.055762)\n",
            "7. SectionsMaxEntropy (0.051159)\n",
            "8. ResourcesMaxEntropy (0.050325)\n",
            "9. MajorSubsystemVersion (0.048914)\n",
            "10. ResourcesMinEntropy (0.045632)\n",
            "11. SizeOfOptionalHeader (0.037583)\n",
            "12. SectionsMinEntropy (0.019848)\n",
            "13. SectionsMeanEntropy (0.019059)\n"
          ]
        }
      ],
      "source": [
        "X = dataset.drop(['Name','md5','legitimate'],axis=1).values\n",
        "y = dataset['legitimate'].values\n",
        "\n",
        "\n",
        "extratrees = ek.ExtraTreesClassifier().fit(X,y)\n",
        "model = SelectFromModel(extratrees, prefit=True)\n",
        "X_new = model.transform(X)\n",
        "nbfeatures = X_new.shape[1]\n",
        "print(nbfeatures)\n",
        "X_train, X_test, y_train, y_test = train_test_split(X_new, y ,test_size=0.2)\n",
        "features_extraTreeClassfier = []\n",
        "index = numpy.argsort(extratrees.feature_importances_)[::-1][:nbfeatures]\n",
        "for f in range(nbfeatures):\n",
        "    print(\"%d. %s (%f)\" % (f + 1, dataset.columns[2+index[f]], extratrees.feature_importances_[index[f]]))\n",
        "    features_extraTreeClassfier.append(dataset.columns[2+f])"
      ]
    },
    {
      "cell_type": "markdown",
      "id": "HOhnqrQZUH1D",
      "metadata": {
        "id": "HOhnqrQZUH1D"
      },
      "source": [
        "### Models to be used for Classification"
      ]
    },
    {
      "cell_type": "code",
      "execution_count": null,
      "id": "3831529e",
      "metadata": {
        "id": "3831529e"
      },
      "outputs": [],
      "source": [
        "model = {\"DecisionTree\":tree.DecisionTreeClassifier(max_depth=10),\n",
        "         \"RandomForest\":ek.RandomForestClassifier(n_estimators=50),\n",
        "         \"Adaboost\":ek.AdaBoostClassifier(n_estimators=50),\n",
        "         \"GradientBoosting\":ek.GradientBoostingClassifier(n_estimators=50),\n",
        "         \"GNB\":GaussianNB(),\n",
        "         \"KNN\": KNeighborsClassifier(),\n",
        "         \"XGBoost\": XGBClassifier(),\n",
        "         \"LogisticRegression\": LogisticRegression(),\n",
        "}"
      ]
    },
    {
      "cell_type": "markdown",
      "id": "D6O1t2TSU0t-",
      "metadata": {
        "id": "D6O1t2TSU0t-"
      },
      "source": [
        "### Accuracy score for all Models Used above"
      ]
    },
    {
      "cell_type": "code",
      "execution_count": null,
      "id": "532d2225",
      "metadata": {
        "colab": {
          "base_uri": "https://localhost:8080/"
        },
        "id": "532d2225",
        "outputId": "4b364fd0-d6ef-48e5-c4b4-3dd09d169f2c"
      },
      "outputs": [
        {
          "output_type": "stream",
          "name": "stdout",
          "text": [
            "DecisionTree : 0.9904744657732706 \n",
            "RandomForest : 0.9944947482796088 \n",
            "Adaboost : 0.984932995291561 \n",
            "GradientBoosting : 0.9888808402752626 \n",
            "GNB : 0.700905469032959 \n",
            "KNN : 0.9904382470119522 \n",
            "XGBoost : 0.9932995291561029 \n",
            "LogisticRegression : 0.7008692502716407 \n"
          ]
        },
        {
          "output_type": "stream",
          "name": "stderr",
          "text": [
            "/usr/local/lib/python3.10/dist-packages/sklearn/linear_model/_logistic.py:458: ConvergenceWarning: lbfgs failed to converge (status=2):\n",
            "ABNORMAL_TERMINATION_IN_LNSRCH.\n",
            "\n",
            "Increase the number of iterations (max_iter) or scale the data as shown in:\n",
            "    https://scikit-learn.org/stable/modules/preprocessing.html\n",
            "Please also refer to the documentation for alternative solver options:\n",
            "    https://scikit-learn.org/stable/modules/linear_model.html#logistic-regression\n",
            "  n_iter_i = _check_optimize_result(\n"
          ]
        }
      ],
      "source": [
        "results_extraTreeClassifier = {}\n",
        "for algo in model:\n",
        "    clf = model[algo]\n",
        "    clf.fit(X_train, y_train)\n",
        "    score = clf.score(X_test,y_test)\n",
        "    print (\"%s : %s \" %(algo, score))\n",
        "    results_extraTreeClassifier[algo] = score"
      ]
    },
    {
      "cell_type": "markdown",
      "id": "Yjuqd3rkvjoS",
      "metadata": {
        "id": "Yjuqd3rkvjoS"
      },
      "source": [
        "### Visualizing the Model's Accuracy"
      ]
    },
    {
      "cell_type": "code",
      "execution_count": null,
      "id": "qU1DbSQP74Ev",
      "metadata": {
        "colab": {
          "base_uri": "https://localhost:8080/",
          "height": 651
        },
        "id": "qU1DbSQP74Ev",
        "outputId": "cd3fbb60-19c7-4836-a03d-de6eb1eedf91"
      },
      "outputs": [
        {
          "output_type": "display_data",
          "data": {
            "text/plain": [
              "<Figure size 1000x600 with 1 Axes>"
            ],
            "image/png": "[encoded data removed]"
          },
          "metadata": {}
        }
      ],
      "source": [
        "import matplotlib.pyplot as plt\n",
        "\n",
        "# Sorting the results dictionary by values (scores) in descending order\n",
        "sorted_result_ETC = dict(sorted(results_extraTreeClassifier.items(), key=lambda item: item[1], reverse=True))\n",
        "\n",
        "# Plotting the bar chart\n",
        "plt.figure(figsize=(10, 6))\n",
        "plt.bar(sorted_result_ETC.keys(), sorted_result_ETC.values(), color='skyblue')\n",
        "plt.xlabel('Algorithm')\n",
        "plt.ylabel('Accuracy Score')\n",
        "plt.title('Accuracy Scores for Different Classification Algorithms')\n",
        "plt.ylim(0, 1)  # Setting y-axis limit to 0-1 for accuracy scores\n",
        "plt.xticks(rotation=45)  # Rotating x-axis labels for better readability\n",
        "plt.show()"
      ]
    },
    {
      "cell_type": "markdown",
      "id": "5gHyWqB4wRYg",
      "metadata": {
        "id": "5gHyWqB4wRYg"
      },
      "source": [
        "### Storing the Accuracy into Excel File"
      ]
    },
    {
      "cell_type": "code",
      "execution_count": null,
      "id": "LeeoWEuFqe7Z",
      "metadata": {
        "id": "LeeoWEuFqe7Z"
      },
      "outputs": [],
      "source": [
        "import pandas as pd\n",
        "\n",
        "# Create a DataFrame from the results_extraTreeClassifier dictionary\n",
        "df = pd.DataFrame(sorted_result_ETC.items(), columns=['Model', 'Accuracy Score'])\n",
        "\n",
        "# Save the DataFrame to an Excel file\n",
        "df.to_excel('model_accuracies_ETC.xlsx', index=False)"
      ]
    },
    {
      "cell_type": "code",
      "execution_count": null,
      "id": "a67ae533",
      "metadata": {
        "colab": {
          "base_uri": "https://localhost:8080/"
        },
        "id": "a67ae533",
        "outputId": "d4839c72-e3ba-4c8b-d571-e7ad956777ed"
      },
      "outputs": [
        {
          "output_type": "stream",
          "name": "stdout",
          "text": [
            "RandomForest  :  0.9944947482796088\n"
          ]
        }
      ],
      "source": [
        "winner_extraTreeClassifier = max(results_extraTreeClassifier, key=results_extraTreeClassifier.get)\n",
        "ETC = print(winner_extraTreeClassifier,\" : \",results_extraTreeClassifier[winner_extraTreeClassifier])"
      ]
    },
    {
      "cell_type": "markdown",
      "id": "LWZABpr7ewnx",
      "metadata": {
        "id": "LWZABpr7ewnx"
      },
      "source": [
        "# 2. Feature Selection: Correlation Analysis"
      ]
    },
    {
      "cell_type": "code",
      "execution_count": null,
      "id": "VNz5ApQNeasr",
      "metadata": {
        "colab": {
          "base_uri": "https://localhost:8080/"
        },
        "id": "VNz5ApQNeasr",
        "outputId": "a7b9834e-c68c-43fc-bd71-b3a26b5595da"
      },
      "outputs": [
        {
          "name": "stdout",
          "output_type": "stream",
          "text": [
            "Correlation with target variable:\n",
            "legitimate                     1.000000\n",
            "Machine                        0.548835\n",
            "SizeOfOptionalHeader           0.547498\n",
            "Subsystem                      0.514352\n",
            "MajorSubsystemVersion          0.380393\n",
            "VersionInformationSize         0.379646\n",
            "ResourcesMinEntropy            0.299112\n",
            "Characteristics                0.221956\n",
            "ExportNb                       0.134408\n",
            "ImportsNbOrdinal               0.128112\n",
            "FileAlignment                  0.125169\n",
            "ImportsNb                      0.116415\n",
            "ResourcesNb                    0.090405\n",
            "MajorImageVersion              0.084410\n",
            "MinorImageVersion              0.083220\n",
            "SectionsMinRawsize             0.059346\n",
            "SectionsMinVirtualsize         0.056466\n",
            "ImportsNbDLL                   0.038395\n",
            "SizeOfCode                     0.017476\n",
            "MajorLinkerVersion             0.017320\n",
            "SizeOfHeaders                  0.010125\n",
            "ImageBase                      0.008245\n",
            "MajorOperatingSystemVersion    0.002402\n",
            "SectionsMeanVirtualsize        0.001734\n",
            "SectionsMeanRawsize            0.001175\n",
            "AddressOfEntryPoint           -0.000134\n",
            "SectionMaxRawsize             -0.000790\n",
            "BaseOfData                    -0.001136\n",
            "MinorSubsystemVersion         -0.001213\n",
            "SectionMaxVirtualsize         -0.001332\n",
            "MinorOperatingSystemVersion   -0.001702\n",
            "ResourcesMinSize              -0.001774\n",
            "SectionAlignment              -0.002429\n",
            "SizeOfHeapCommit              -0.002506\n",
            "SizeOfImage                   -0.002603\n",
            "LoaderFlags                   -0.002649\n",
            "SizeOfStackCommit             -0.003226\n",
            "NumberOfRvaAndSizes           -0.003523\n",
            "ResourcesMeanSize             -0.003824\n",
            "SizeOfUninitializedData       -0.003997\n",
            "SizeOfInitializedData         -0.004958\n",
            "ResourcesMaxSize              -0.005529\n",
            "BaseOfCode                    -0.006232\n",
            "LoadConfigurationSize         -0.011666\n",
            "MinorLinkerVersion            -0.146652\n",
            "SectionsMinEntropy            -0.152840\n",
            "SizeOfHeapReserve             -0.156260\n",
            "CheckSum                      -0.195329\n",
            "ResourcesMeanEntropy          -0.202432\n",
            "SectionsNb                    -0.207782\n",
            "SectionsMeanEntropy           -0.343933\n",
            "ResourcesMaxEntropy           -0.392855\n",
            "SizeOfStackReserve            -0.521642\n",
            "SectionsMaxEntropy            -0.624229\n",
            "DllCharacteristics            -0.630177\n",
            "Name: legitimate, dtype: float64\n",
            "Number of Features Selected are -->  11\n",
            "\n",
            "Selected Features:\n",
            "['legitimate', 'Machine', 'SizeOfOptionalHeader', 'Subsystem', 'MajorSubsystemVersion', 'VersionInformationSize', 'SectionsMeanEntropy', 'ResourcesMaxEntropy', 'SizeOfStackReserve', 'SectionsMaxEntropy', 'DllCharacteristics']\n"
          ]
        }
      ],
      "source": [
        "from sklearn.preprocessing import StandardScaler\n",
        "\n",
        "# Let's assume the last column is the target variable and we want to select features based on correlation with it\n",
        "target_column = dataset.columns[-1]\n",
        "dataset_corr = dataset.drop(['Name','md5'],axis=1)\n",
        "\n",
        "# Compute the correlation matrix\n",
        "correlation_matrix = dataset_corr.corr()\n",
        "\n",
        "# Sort the correlation values with the target variable\n",
        "correlation_with_target = correlation_matrix[target_column].sort_values(ascending=False)\n",
        "\n",
        "# Print the correlation values with the target variable\n",
        "print(\"Correlation with target variable:\")\n",
        "print(correlation_with_target)\n",
        "\n",
        "# Define a threshold for correlation\n",
        "threshold = 0.3\n",
        "\n",
        "# Select features that have correlation above the threshold (either positive or negative)\n",
        "selected_features = correlation_with_target[abs(correlation_with_target) > threshold].index.tolist()\n",
        "\n",
        "# Print number of selected features\n",
        "Selected_Length = len(selected_features)\n",
        "print(\"Number of Features Selected are --> \", Selected_Length)\n",
        "\n",
        "# Print selected features\n",
        "print(\"\\nSelected Features:\")\n",
        "print(selected_features)\n",
        "\n",
        "# Optionally, you can drop the target column from the selected features list if it's included\n",
        "if target_column in selected_features:\n",
        "    selected_features.remove(target_column)\n",
        "\n",
        "# Standardize the features\n",
        "scaler = StandardScaler()\n",
        "X_scaled = scaler.fit_transform(X)\n",
        "\n",
        "# Splitting the dataset into features (X) and target variable (y)\n",
        "X = dataset_corr[selected_features]\n",
        "y = dataset_corr[target_column]\n",
        "\n",
        "# Splitting the dataset into training and testing sets (70% train, 30% test)\n",
        "X_train, X_test, y_train, y_test = train_test_split(X, y, test_size=0.3, random_state=42)"
      ]
    },
    {
      "cell_type": "markdown",
      "id": "1EXX-j10wHxi",
      "metadata": {
        "id": "1EXX-j10wHxi"
      },
      "source": [
        "### Model To be used for Classification"
      ]
    },
    {
      "cell_type": "code",
      "execution_count": null,
      "id": "DJuEEP6OGwft",
      "metadata": {
        "id": "DJuEEP6OGwft"
      },
      "outputs": [],
      "source": [
        "model = { \"DecisionTree\":tree.DecisionTreeClassifier(max_depth=10),\n",
        "         \"RandomForest\":ek.RandomForestClassifier(n_estimators=50),\n",
        "         \"Adaboost\":ek.AdaBoostClassifier(n_estimators=50),\n",
        "         \"GradientBoosting\":ek.GradientBoostingClassifier(n_estimators=50),\n",
        "         \"GNB\":GaussianNB(),\n",
        "         \"KNN\": KNeighborsClassifier(),\n",
        "         \"XGBoost\": XGBClassifier(),\n",
        "         \"LogisticRegression\": LogisticRegression(),\n",
        "}"
      ]
    },
    {
      "cell_type": "code",
      "execution_count": null,
      "id": "pb3XNVb9HUGc",
      "metadata": {
        "colab": {
          "base_uri": "https://localhost:8080/"
        },
        "id": "pb3XNVb9HUGc",
        "outputId": "36c3df26-d043-4190-9a91-ef8d5258c469"
      },
      "outputs": [
        {
          "name": "stdout",
          "output_type": "stream",
          "text": [
            "DecisionTree : 0.9870819751297839 \n",
            "RandomForest : 0.9928286852589642 \n",
            "Adaboost : 0.9819147651816974 \n",
            "GradientBoosting : 0.9846190993601353 \n",
            "GNB : 0.9134130146082338 \n",
            "KNN : 0.9893516841724013 \n",
            "XGBoost : 0.9912350597609562 \n",
            "LogisticRegression : 0.933671375105638 \n"
          ]
        }
      ],
      "source": [
        "results_Correlation = {}\n",
        "for algo in model:\n",
        "    clf = model[algo]\n",
        "    clf.fit(X_train,y_train)\n",
        "    score = clf.score(X_test,y_test)\n",
        "    print (\"%s : %s \" %(algo, score))\n",
        "    results_Correlation[algo] = score\n"
      ]
    },
    {
      "cell_type": "markdown",
      "id": "55boxKN3vvZW",
      "metadata": {
        "id": "55boxKN3vvZW"
      },
      "source": [
        "### Visualizing the Model's Accuracy"
      ]
    },
    {
      "cell_type": "code",
      "execution_count": null,
      "id": "RZOdefLZ84r9",
      "metadata": {
        "colab": {
          "base_uri": "https://localhost:8080/",
          "height": 651
        },
        "id": "RZOdefLZ84r9",
        "outputId": "75541218-85cc-4e31-f6ad-63eede45758b"
      },
      "outputs": [
        {
          "data": {
            "image/png": "[encoded data removed]",
            "text/plain": [
              "<Figure size 1000x600 with 1 Axes>"
            ]
          },
          "metadata": {},
          "output_type": "display_data"
        }
      ],
      "source": [
        "import matplotlib.pyplot as plt\n",
        "\n",
        "# Sorting the results dictionary by values (scores) in descending order\n",
        "sorted_result_Correlation = dict(sorted(results_Correlation.items(), key=lambda item: item[1], reverse=True))\n",
        "\n",
        "# Plotting the bar chart\n",
        "plt.figure(figsize=(10, 6))\n",
        "plt.bar(sorted_result_Correlation.keys(), sorted_result_Correlation.values(), color='skyblue')\n",
        "plt.xlabel('Algorithm')\n",
        "plt.ylabel('Accuracy Score')\n",
        "plt.title('Accuracy Scores for Different Classification Algorithms')\n",
        "plt.ylim(0, 1)  # Setting y-axis limit to 0-1 for accuracy scores\n",
        "plt.xticks(rotation=45)  # Rotating x-axis labels for better readability\n",
        "plt.show()"
      ]
    },
    {
      "cell_type": "markdown",
      "id": "TEm419cKwJzZ",
      "metadata": {
        "id": "TEm419cKwJzZ"
      },
      "source": [
        "### Storing the Accuracy into Excel File"
      ]
    },
    {
      "cell_type": "code",
      "execution_count": null,
      "id": "9qPe7NJzuat4",
      "metadata": {
        "id": "9qPe7NJzuat4"
      },
      "outputs": [],
      "source": [
        "import pandas as pd\n",
        "\n",
        "# Create a DataFrame from the results_extraTreeClassifier dictionary\n",
        "df = pd.DataFrame(sorted_result_Correlation.items(), columns=['Model', 'Accuracy Score'])\n",
        "\n",
        "# Save the DataFrame to an Excel file\n",
        "df.to_excel('model_accuracies_Correlation.xlsx', index=False)"
      ]
    },
    {
      "cell_type": "code",
      "execution_count": null,
      "id": "Kz17ihdifMGH",
      "metadata": {
        "colab": {
          "base_uri": "https://localhost:8080/"
        },
        "id": "Kz17ihdifMGH",
        "outputId": "e0c3e8ec-0cae-492e-ed22-0b4f1e0a6a09"
      },
      "outputs": [
        {
          "name": "stdout",
          "output_type": "stream",
          "text": [
            "RandomForest  :  0.9928286852589642\n"
          ]
        }
      ],
      "source": [
        "winner_Correlation = max(results_Correlation, key=results_Correlation.get)\n",
        "Corr = print(winner_Correlation,\" : \",results_Correlation[winner_Correlation])"
      ]
    },
    {
      "cell_type": "markdown",
      "id": "Uyz8KxOC2suH",
      "metadata": {
        "id": "Uyz8KxOC2suH"
      },
      "source": [
        "# 3. Feature Selection: SelectKBest"
      ]
    },
    {
      "cell_type": "code",
      "execution_count": null,
      "id": "_Pc7Slke20SO",
      "metadata": {
        "colab": {
          "base_uri": "https://localhost:8080/"
        },
        "id": "_Pc7Slke20SO",
        "outputId": "54860428-b646-413e-a524-d938570a9cd6"
      },
      "outputs": [
        {
          "name": "stdout",
          "output_type": "stream",
          "text": [
            "10\n",
            "1. CheckSum (90932.093726)\n",
            "2. SectionsMeanEntropy (88132.847747)\n",
            "3. Name (59506.262698)\n",
            "4. md5 (59092.899236)\n",
            "5. Subsystem (51605.905548)\n",
            "6. SizeOfHeaders (49658.425182)\n",
            "7. ResourcesMeanEntropy (25193.436444)\n",
            "8. MajorImageVersion (23354.301554)\n",
            "9. ResourcesMaxSize (23247.218014)\n",
            "10. NumberOfRvaAndSizes (18520.022510)\n"
          ]
        }
      ],
      "source": [
        "from sklearn.feature_selection import SelectKBest, f_classif\n",
        "\n",
        "X = dataset.drop(['Name', 'md5', 'legitimate'], axis=1).values\n",
        "y = dataset['legitimate'].values\n",
        "\n",
        "# Standardize the features\n",
        "scaler = StandardScaler()\n",
        "X_scaled = scaler.fit_transform(X)\n",
        "\n",
        "# SelectKBest feature selection\n",
        "k_best_selector = SelectKBest(score_func=f_classif, k=10).fit(X, y)  # Set <k_value> to the desired number of features\n",
        "X_new = k_best_selector.transform(X)\n",
        "nbfeatures = X_new.shape[1]\n",
        "\n",
        "print(nbfeatures)\n",
        "\n",
        "X_train, X_test, y_train, y_test = train_test_split(X_new, y, test_size=0.2)\n",
        "\n",
        "features_selectKBest = []\n",
        "index = numpy.argsort(k_best_selector.scores_)[::-1][:nbfeatures]\n",
        "for f in range(nbfeatures):\n",
        "    print(\"%d. %s (%f)\" % (f + 1, dataset.columns[index[f]], k_best_selector.scores_[index[f]]))\n",
        "    features_selectKBest.append(dataset.columns[index[f]])"
      ]
    },
    {
      "cell_type": "markdown",
      "id": "z1fqHbXY27ZF",
      "metadata": {
        "id": "z1fqHbXY27ZF"
      },
      "source": [
        "### Model to be used for Classification"
      ]
    },
    {
      "cell_type": "code",
      "execution_count": null,
      "id": "r31AJ1i423Dg",
      "metadata": {
        "id": "r31AJ1i423Dg"
      },
      "outputs": [],
      "source": [
        "model = { \"DecisionTree\":tree.DecisionTreeClassifier(max_depth=10),\n",
        "         \"RandomForest\":ek.RandomForestClassifier(n_estimators=50),\n",
        "         \"Adaboost\":ek.AdaBoostClassifier(n_estimators=50),\n",
        "         \"GradientBoosting\":ek.GradientBoostingClassifier(n_estimators=50),\n",
        "         \"GNB\":GaussianNB(),\n",
        "         \"KNN\": KNeighborsClassifier(),\n",
        "         \"XGBoost\": XGBClassifier(),\n",
        "         \"LogisticRegression\": LogisticRegression(),\n",
        "}"
      ]
    },
    {
      "cell_type": "markdown",
      "id": "6IXtT1uJhpq3",
      "metadata": {
        "id": "6IXtT1uJhpq3"
      },
      "source": [
        "### Accuracy score for all Models Used above"
      ]
    },
    {
      "cell_type": "code",
      "execution_count": null,
      "id": "YlflijNrHs1V",
      "metadata": {
        "colab": {
          "base_uri": "https://localhost:8080/"
        },
        "id": "YlflijNrHs1V",
        "outputId": "4330fe21-9ecf-4cdb-ca7c-08735c8a5b6a"
      },
      "outputs": [
        {
          "name": "stdout",
          "output_type": "stream",
          "text": [
            "DecisionTree : 0.9873958710612097 \n",
            "RandomForest : 0.9923578413618255 \n",
            "Adaboost : 0.9802607750814922 \n",
            "GradientBoosting : 0.9835566823614632 \n",
            "GNB : 0.9112640347700108 \n",
            "KNN : 0.9898225280695401 \n",
            "XGBoost : 0.9905469032959073 \n",
            "LogisticRegression : 0.9296269467584208 \n"
          ]
        }
      ],
      "source": [
        "results_SelectKBest = {}\n",
        "for algo in model:\n",
        "    clf = model[algo]\n",
        "    clf.fit(X_train,y_train)\n",
        "    score = clf.score(X_test,y_test)\n",
        "    print (\"%s : %s \" %(algo, score))\n",
        "    results_SelectKBest[algo] = score\n"
      ]
    },
    {
      "cell_type": "markdown",
      "id": "hk1bxOTG390q",
      "metadata": {
        "id": "hk1bxOTG390q"
      },
      "source": [
        "### Visualizing the Model's Accuracy"
      ]
    },
    {
      "cell_type": "code",
      "execution_count": null,
      "id": "PHrv5PBf34qq",
      "metadata": {
        "colab": {
          "base_uri": "https://localhost:8080/",
          "height": 651
        },
        "id": "PHrv5PBf34qq",
        "outputId": "b4aafe00-91ec-4b5c-90cb-0accd59e9b0c"
      },
      "outputs": [
        {
          "data": {
            "image/png": "[encoded data removed]",
            "text/plain": [
              "<Figure size 1000x600 with 1 Axes>"
            ]
          },
          "metadata": {},
          "output_type": "display_data"
        }
      ],
      "source": [
        "import matplotlib.pyplot as plt\n",
        "\n",
        "# Sorting the results dictionary by values (scores) in descending order\n",
        "sorted_result_SelectKBest = dict(sorted(results_SelectKBest.items(), key=lambda item: item[1], reverse=True))\n",
        "\n",
        "# Plotting the bar chart\n",
        "plt.figure(figsize=(10, 6))\n",
        "plt.bar(sorted_result_SelectKBest.keys(), sorted_result_SelectKBest.values(), color='skyblue')\n",
        "plt.xlabel('Algorithm')\n",
        "plt.ylabel('Accuracy Score')\n",
        "plt.title('Accuracy Scores for Different Classification Algorithms')\n",
        "plt.ylim(0, 1)  # Setting y-axis limit to 0-1 for accuracy scores\n",
        "plt.xticks(rotation=45)  # Rotating x-axis labels for better readability\n",
        "plt.show()"
      ]
    },
    {
      "cell_type": "markdown",
      "id": "sdrpzEUQ4Xcv",
      "metadata": {
        "id": "sdrpzEUQ4Xcv"
      },
      "source": [
        "### Storing the Accuracy into Excel File"
      ]
    },
    {
      "cell_type": "code",
      "execution_count": null,
      "id": "Ndi9fcXu4Kyg",
      "metadata": {
        "id": "Ndi9fcXu4Kyg"
      },
      "outputs": [],
      "source": [
        "import pandas as pd\n",
        "\n",
        "# Create a DataFrame from the results_extraTreeClassifier dictionary\n",
        "df = pd.DataFrame(sorted_result_SelectKBest.items(), columns=['Model', 'Accuracy Score'])\n",
        "\n",
        "# Save the DataFrame to an Excel file\n",
        "df.to_excel('model_accuracies_SelectKBest.xlsx', index=False)"
      ]
    },
    {
      "cell_type": "code",
      "execution_count": null,
      "id": "sK-pnuum4UFr",
      "metadata": {
        "colab": {
          "base_uri": "https://localhost:8080/"
        },
        "id": "sK-pnuum4UFr",
        "outputId": "698e505a-4558-42eb-fce1-8387d1ebbc60"
      },
      "outputs": [
        {
          "name": "stdout",
          "output_type": "stream",
          "text": [
            "RandomForest  :  0.9923578413618255\n"
          ]
        }
      ],
      "source": [
        "winner_SelectKBest = max(results_SelectKBest, key=results_SelectKBest.get)\n",
        "SKB = print(winner_SelectKBest,\" : \",results_SelectKBest[winner_SelectKBest])"
      ]
    },
    {
      "cell_type": "markdown",
      "id": "XQCnfcP1ftda",
      "metadata": {
        "id": "XQCnfcP1ftda"
      },
      "source": [
        "# 4. Feature Selection: PCA (Principal Component Analysis)\n"
      ]
    },
    {
      "cell_type": "code",
      "execution_count": null,
      "id": "NW6GqV54fxvU",
      "metadata": {
        "colab": {
          "base_uri": "https://localhost:8080/"
        },
        "id": "NW6GqV54fxvU",
        "outputId": "b03fad5f-31ed-41cd-c055-57408ef99500"
      },
      "outputs": [
        {
          "name": "stdout",
          "output_type": "stream",
          "text": [
            "Number of components to explain 95% of the variance: 36\n"
          ]
        }
      ],
      "source": [
        "from sklearn.decomposition import PCA\n",
        "from sklearn.preprocessing import StandardScaler\n",
        "import numpy as np\n",
        "\n",
        "# Let's assume the last column is the target variable and we want to select features based on correlation with it\n",
        "target_column = dataset.columns[-1]\n",
        "\n",
        "# Splitting the dataset into features (X) and target variable (y)\n",
        "X = dataset.drop(['Name','md5','legitimate'], axis=1)  # Excluding the target column\n",
        "y = dataset[target_column]\n",
        "\n",
        "# Standardize the features\n",
        "scaler = StandardScaler()\n",
        "X_scaled = scaler.fit_transform(X)\n",
        "\n",
        "# Initialize PCA\n",
        "pca = PCA()\n",
        "\n",
        "# Fit PCA to the scaled features\n",
        "pca.fit(X_scaled)\n",
        "\n",
        "# Determine the number of components to explain 95% of the variance\n",
        "cumulative_variance = np.cumsum(pca.explained_variance_ratio_)\n",
        "n_components = np.argmax(cumulative_variance >= 0.95) + 1\n",
        "\n",
        "# Print the number of components\n",
        "print(\"Number of components to explain 95% of the variance:\", n_components)\n",
        "\n",
        "# Initialize PCA with the determined number of components\n",
        "pca = PCA(n_components=n_components)\n",
        "\n",
        "# Fit PCA to the scaled features\n",
        "X_pca = pca.fit_transform(X_scaled)\n",
        "\n",
        "# Splitting the dataset into training and testing sets (70% train, 30% test)\n",
        "X_train, X_test, y_train, y_test = train_test_split(X_pca, y, test_size=0.3, random_state=42)\n",
        "\n",
        "# Now you can use X_train, X_test, y_train, y_test for further analysis or modeling\n"
      ]
    },
    {
      "cell_type": "markdown",
      "id": "c5YqYcBXhkYt",
      "metadata": {
        "id": "c5YqYcBXhkYt"
      },
      "source": [
        "### Model to be used for Classification"
      ]
    },
    {
      "cell_type": "code",
      "execution_count": null,
      "id": "y6fh0B6ugD-W",
      "metadata": {
        "id": "y6fh0B6ugD-W"
      },
      "outputs": [],
      "source": [
        "model = { \"DecisionTree\":tree.DecisionTreeClassifier(max_depth=10),\n",
        "         \"RandomForest\":ek.RandomForestClassifier(n_estimators=50),\n",
        "         \"Adaboost\":ek.AdaBoostClassifier(n_estimators=50),\n",
        "         \"GradientBoosting\":ek.GradientBoostingClassifier(n_estimators=50),\n",
        "         \"GNB\":GaussianNB(),\n",
        "         \"KNN\": KNeighborsClassifier(),\n",
        "         \"XGBoost\": XGBClassifier(),\n",
        "         \"LogisticRegression\": LogisticRegression(),\n",
        "}"
      ]
    },
    {
      "cell_type": "markdown",
      "id": "yxwXYpzjhlYg",
      "metadata": {
        "id": "yxwXYpzjhlYg"
      },
      "source": [
        "### Accuracy score for all Models Used above"
      ]
    },
    {
      "cell_type": "code",
      "execution_count": null,
      "id": "mBcD8Qv6gEoC",
      "metadata": {
        "colab": {
          "base_uri": "https://localhost:8080/"
        },
        "id": "mBcD8Qv6gEoC",
        "outputId": "cccd9c9b-f885-462f-8fab-2be784c5c02d"
      },
      "outputs": [
        {
          "name": "stdout",
          "output_type": "stream",
          "text": [
            "DecisionTree : 0.9865507666304479 \n",
            "RandomForest : 0.9919835808282024 \n",
            "Adaboost : 0.9781238681637088 \n",
            "GradientBoosting : 0.9817940359773029 \n",
            "GNB : 0.7236991428226488 \n",
            "KNN : 0.9903175178075576 \n",
            "XGBoost : 0.9920560183508391 \n",
            "LogisticRegression : 0.9786792225039237 \n"
          ]
        },
        {
          "name": "stderr",
          "output_type": "stream",
          "text": [
            "/usr/local/lib/python3.10/dist-packages/sklearn/linear_model/_logistic.py:458: ConvergenceWarning: lbfgs failed to converge (status=1):\n",
            "STOP: TOTAL NO. of ITERATIONS REACHED LIMIT.\n",
            "\n",
            "Increase the number of iterations (max_iter) or scale the data as shown in:\n",
            "    https://scikit-learn.org/stable/modules/preprocessing.html\n",
            "Please also refer to the documentation for alternative solver options:\n",
            "    https://scikit-learn.org/stable/modules/linear_model.html#logistic-regression\n",
            "  n_iter_i = _check_optimize_result(\n"
          ]
        }
      ],
      "source": [
        "results_PCA = {}\n",
        "for algo in model:\n",
        "    clf = model[algo]\n",
        "    clf.fit(X_train,y_train)\n",
        "    score = clf.score(X_test,y_test)\n",
        "    print (\"%s : %s \" %(algo, score))\n",
        "    results_PCA[algo] = score"
      ]
    },
    {
      "cell_type": "markdown",
      "id": "iVDCBs-ihsV0",
      "metadata": {
        "id": "iVDCBs-ihsV0"
      },
      "source": [
        "### Visualizing the Model's Accuracy"
      ]
    },
    {
      "cell_type": "code",
      "execution_count": null,
      "id": "8Z3okSF8hf7S",
      "metadata": {
        "colab": {
          "base_uri": "https://localhost:8080/",
          "height": 651
        },
        "id": "8Z3okSF8hf7S",
        "outputId": "12480303-d1df-4be1-ac42-713c114a9d4d"
      },
      "outputs": [
        {
          "data": {
            "image/png": "[encoded data removed]",
            "text/plain": [
              "<Figure size 1000x600 with 1 Axes>"
            ]
          },
          "metadata": {},
          "output_type": "display_data"
        }
      ],
      "source": [
        "import matplotlib.pyplot as plt\n",
        "\n",
        "# Sorting the results dictionary by values (scores) in descending order\n",
        "sorted_result_PCA = dict(sorted(results_PCA.items(), key=lambda item: item[1], reverse=True))\n",
        "\n",
        "# Plotting the bar chart\n",
        "plt.figure(figsize=(10, 6))\n",
        "plt.bar(sorted_result_PCA.keys(), sorted_result_PCA.values(), color='skyblue')\n",
        "plt.xlabel('Algorithm')\n",
        "plt.ylabel('Accuracy Score')\n",
        "plt.title('Accuracy Scores for Different Classification Algorithms')\n",
        "plt.ylim(0, 1)  # Setting y-axis limit to 0-1 for accuracy scores\n",
        "plt.xticks(rotation=45)  # Rotating x-axis labels for better readability\n",
        "plt.show()"
      ]
    },
    {
      "cell_type": "markdown",
      "id": "kuBT3VAKh3yH",
      "metadata": {
        "id": "kuBT3VAKh3yH"
      },
      "source": [
        "### Storing the Accuracy into Excel File"
      ]
    },
    {
      "cell_type": "code",
      "execution_count": null,
      "id": "3vzmaclmh7N0",
      "metadata": {
        "id": "3vzmaclmh7N0"
      },
      "outputs": [],
      "source": [
        "import pandas as pd\n",
        "\n",
        "# Create a DataFrame from the results_extraTreeClassifier dictionary\n",
        "df = pd.DataFrame(sorted_result_PCA.items(), columns=['Model', 'Accuracy Score'])\n",
        "\n",
        "# Save the DataFrame to an Excel file\n",
        "df.to_excel('model_accuracies_PCA.xlsx', index=False)"
      ]
    },
    {
      "cell_type": "code",
      "execution_count": null,
      "id": "chXv0BBWiAm2",
      "metadata": {
        "colab": {
          "base_uri": "https://localhost:8080/"
        },
        "id": "chXv0BBWiAm2",
        "outputId": "b39d9e09-0c84-45d4-8aa5-2d4878e03c8a"
      },
      "outputs": [
        {
          "name": "stdout",
          "output_type": "stream",
          "text": [
            "XGBoost  :  0.9920560183508391\n"
          ]
        }
      ],
      "source": [
        "winner_PCA = max(results_PCA, key=results_PCA.get)\n",
        "PCA = print(winner_PCA,\" : \",results_PCA[winner_PCA])"
      ]
    },
    {
      "cell_type": "markdown",
      "id": "YSyf64T2uyME",
      "metadata": {
        "id": "YSyf64T2uyME"
      },
      "source": [
        "#Final Model Selection"
      ]
    },
    {
      "cell_type": "code",
      "execution_count": null,
      "id": "MWbWVaKDmtSA",
      "metadata": {
        "colab": {
          "base_uri": "https://localhost:8080/"
        },
        "id": "MWbWVaKDmtSA",
        "outputId": "fba24f0a-84c1-4a03-8389-1140fd169378"
      },
      "outputs": [
        {
          "output_type": "stream",
          "name": "stdout",
          "text": [
            "RandomForest  :  0.9944947482796088\n"
          ]
        }
      ],
      "source": [
        "Final_winner_dict = {\n",
        "    winner_Correlation: results_Correlation[winner_Correlation],\n",
        "    winner_SelectKBest: results_SelectKBest[winner_SelectKBest],\n",
        "    winner_PCA: results_PCA[winner_PCA],\n",
        "    winner_extraTreeClassifier: results_extraTreeClassifier[winner_extraTreeClassifier],\n",
        "}\n",
        "\n",
        "# Finding the maximum value based on the values of the dictionary\n",
        "max_value_key = max(Final_winner_dict, key=Final_winner_dict.get)\n",
        "max_value = Final_winner_dict[max_value_key]\n",
        "\n",
        "print(max_value_key, \" : \", max_value)\n"
      ]
    },
    {
      "cell_type": "markdown",
      "id": "9zgCHDCZoGwL",
      "metadata": {
        "id": "9zgCHDCZoGwL"
      },
      "source": [
        "# Final Model = Random Forest of Extra Tree Classfier Feature Selection"
      ]
    },
    {
      "cell_type": "markdown",
      "id": "15xzPYaeilzc",
      "metadata": {
        "id": "15xzPYaeilzc"
      },
      "source": [
        "# Final Prediction"
      ]
    },
    {
      "cell_type": "code",
      "execution_count": null,
      "id": "87afa374",
      "metadata": {
        "colab": {
          "base_uri": "https://localhost:8080/"
        },
        "id": "87afa374",
        "outputId": "9f9929d3-7504-445e-a19b-5f499c29fafb",
        "scrolled": true
      },
      "outputs": [
        {
          "output_type": "execute_result",
          "data": {
            "text/plain": [
              "['classifier/classifier.pkl']"
            ]
          },
          "metadata": {},
          "execution_count": 25
        }
      ],
      "source": [
        "joblib.dump(model[winner_extraTreeClassifier],'classifier/classifier.pkl')"
      ]
    },
    {
      "cell_type": "code",
      "execution_count": null,
      "id": "bb334d67",
      "metadata": {
        "colab": {
          "base_uri": "https://localhost:8080/"
        },
        "id": "bb334d67",
        "outputId": "7321bef6-1f30-4c3b-d906-c7e1fea8bc8b"
      },
      "outputs": [
        {
          "output_type": "execute_result",
          "data": {
            "text/plain": [
              "251"
            ]
          },
          "metadata": {},
          "execution_count": 26
        }
      ],
      "source": [
        "open('classifier/features.pkl', 'wb').write(pickle.dumps(features_extraTreeClassfier))"
      ]
    },
    {
      "cell_type": "code",
      "execution_count": null,
      "id": "34c0b131",
      "metadata": {
        "colab": {
          "base_uri": "https://localhost:8080/"
        },
        "id": "34c0b131",
        "outputId": "29883cc9-8e53-430e-c27f-83a764e783d7"
      },
      "outputs": [
        {
          "output_type": "stream",
          "name": "stdout",
          "text": [
            "False positive rate : 0.093048 %\n",
            "False negative rate : 0.166977 %\n"
          ]
        }
      ],
      "source": [
        "clf = model[winner_extraTreeClassifier]\n",
        "res = clf.predict(X_new)\n",
        "mt = confusion_matrix(y, res)\n",
        "print(\"False positive rate : %f %%\" % ((mt[0][1] / float(sum(mt[0])))*100))\n",
        "print('False negative rate : %f %%' % ( (mt[1][0] / float(sum(mt[1]))*100)))"
      ]
    },
    {
      "cell_type": "code",
      "execution_count": null,
      "id": "3ebf6a48",
      "metadata": {
        "colab": {
          "base_uri": "https://localhost:8080/"
        },
        "id": "3ebf6a48",
        "outputId": "18976e78-e371-44d7-ef1f-7740223759c4"
      },
      "outputs": [
        {
          "output_type": "execute_result",
          "data": {
            "text/plain": [
              "['Machine',\n",
              " 'SizeOfOptionalHeader',\n",
              " 'Characteristics',\n",
              " 'MajorLinkerVersion',\n",
              " 'MinorLinkerVersion',\n",
              " 'SizeOfCode',\n",
              " 'SizeOfInitializedData',\n",
              " 'SizeOfUninitializedData',\n",
              " 'AddressOfEntryPoint',\n",
              " 'BaseOfCode',\n",
              " 'BaseOfData',\n",
              " 'ImageBase',\n",
              " 'SectionAlignment']"
            ]
          },
          "metadata": {},
          "execution_count": 28
        }
      ],
      "source": [
        "# Load classifier\n",
        "clf = joblib.load('classifier/classifier.pkl')\n",
        "#load features\n",
        "features = pickle.loads(open(os.path.join('classifier/features.pkl'),'rb').read())\n",
        "features"
      ]
    },
    {
      "cell_type": "code",
      "execution_count": null,
      "id": "pSXIiRgBFZnv",
      "metadata": {
        "colab": {
          "base_uri": "https://localhost:8080/"
        },
        "id": "pSXIiRgBFZnv",
        "outputId": "ebab2f6a-b9a7-4416-ada0-6ec70282ade9"
      },
      "outputs": [
        {
          "output_type": "execute_result",
          "data": {
            "text/plain": [
              "['Machine',\n",
              " 'SizeOfOptionalHeader',\n",
              " 'Characteristics',\n",
              " 'MajorLinkerVersion',\n",
              " 'MinorLinkerVersion',\n",
              " 'SizeOfCode',\n",
              " 'SizeOfInitializedData',\n",
              " 'SizeOfUninitializedData',\n",
              " 'AddressOfEntryPoint',\n",
              " 'BaseOfCode',\n",
              " 'BaseOfData',\n",
              " 'ImageBase',\n",
              " 'SectionAlignment',\n",
              " 'legitimate']"
            ]
          },
          "metadata": {},
          "execution_count": 29
        }
      ],
      "source": [
        "features.append('legitimate')\n",
        "features"
      ]
    },
    {
      "cell_type": "code",
      "execution_count": null,
      "id": "c94e3334",
      "metadata": {
        "colab": {
          "base_uri": "https://localhost:8080/",
          "height": 444
        },
        "id": "c94e3334",
        "outputId": "036fb02f-8f09-4aec-a910-fe51ea59ab9e"
      },
      "outputs": [
        {
          "output_type": "execute_result",
          "data": {
            "text/plain": [
              "        Machine  SizeOfOptionalHeader  Characteristics  MajorLinkerVersion  \\\n",
              "0           332                   224              258                   9   \n",
              "1           332                   224             3330                   9   \n",
              "2           332                   224             3330                   9   \n",
              "3           332                   224              258                   9   \n",
              "4           332                   224              258                   9   \n",
              "...         ...                   ...              ...                 ...   \n",
              "138042      332                   224              258                  11   \n",
              "138043      332                   224            33167                   2   \n",
              "138044      332                   224              258                  10   \n",
              "138045      332                   224            33166                   2   \n",
              "138046      332                   224              258                  11   \n",
              "\n",
              "        MinorLinkerVersion  SizeOfCode  SizeOfInitializedData  \\\n",
              "0                        0      361984                 115712   \n",
              "1                        0      130560                  19968   \n",
              "2                        0      517120                 621568   \n",
              "3                        0      585728                 369152   \n",
              "4                        0      294912                 247296   \n",
              "...                    ...         ...                    ...   \n",
              "138042                   0      205824                 223744   \n",
              "138043                  25       37888                 185344   \n",
              "138044                   0      118272                 380416   \n",
              "138045                  25       49152                  16896   \n",
              "138046                   0      111616                 468480   \n",
              "\n",
              "        SizeOfUninitializedData  AddressOfEntryPoint  BaseOfCode  BaseOfData  \\\n",
              "0                             0                 6135        4096      372736   \n",
              "1                             0                81778        4096      143360   \n",
              "2                             0               350896        4096      811008   \n",
              "3                             0               451258        4096      798720   \n",
              "4                             0               217381        4096      536576   \n",
              "...                         ...                  ...         ...         ...   \n",
              "138042                        0               123291        4096      212992   \n",
              "138043                        0                40000        4096       45056   \n",
              "138044                        0                59610        4096      122880   \n",
              "138045                        0                51216        4096       53248   \n",
              "138046                        0                22731        4096      118784   \n",
              "\n",
              "          ImageBase  SectionAlignment  legitimate  \n",
              "0         4194304.0              4096           1  \n",
              "1       771751936.0              4096           1  \n",
              "2       771751936.0              4096           1  \n",
              "3       771751936.0              4096           1  \n",
              "4       771751936.0              4096           1  \n",
              "...             ...               ...         ...  \n",
              "138042    4194304.0              4096           0  \n",
              "138043    4194304.0              4096           0  \n",
              "138044    4194304.0              4096           0  \n",
              "138045    4194304.0              4096           0  \n",
              "138046    4194304.0              4096           0  \n",
              "\n",
              "[138047 rows x 14 columns]"
            ],
            "text/html": [
              "\n",
              "  <div id=\"df-0c6d9669-bb0c-47a0-b1b7-e421bd325756\" class=\"colab-df-container\">\n",
              "    <div>\n",
              "<style scoped>\n",
              "    .dataframe tbody tr th:only-of-type {\n",
              "        vertical-align: middle;\n",
              "    }\n",
              "\n",
              "    .dataframe tbody tr th {\n",
              "        vertical-align: top;\n",
              "    }\n",
              "\n",
              "    .dataframe thead th {\n",
              "        text-align: right;\n",
              "    }\n",
              "</style>\n",
              "<table border=\"1\" class=\"dataframe\">\n",
              "  <thead>\n",
              "    <tr style=\"text-align: right;\">\n",
              "      <th></th>\n",
              "      <th>Machine</th>\n",
              "      <th>SizeOfOptionalHeader</th>\n",
              "      <th>Characteristics</th>\n",
              "      <th>MajorLinkerVersion</th>\n",
              "      <th>MinorLinkerVersion</th>\n",
              "      <th>SizeOfCode</th>\n",
              "      <th>SizeOfInitializedData</th>\n",
              "      <th>SizeOfUninitializedData</th>\n",
              "      <th>AddressOfEntryPoint</th>\n",
              "      <th>BaseOfCode</th>\n",
              "      <th>BaseOfData</th>\n",
              "      <th>ImageBase</th>\n",
              "      <th>SectionAlignment</th>\n",
              "      <th>legitimate</th>\n",
              "    </tr>\n",
              "  </thead>\n",
              "  <tbody>\n",
              "    <tr>\n",
              "      <th>0</th>\n",
              "      <td>332</td>\n",
              "      <td>224</td>\n",
              "      <td>258</td>\n",
              "      <td>9</td>\n",
              "      <td>0</td>\n",
              "      <td>361984</td>\n",
              "      <td>115712</td>\n",
              "      <td>0</td>\n",
              "      <td>6135</td>\n",
              "      <td>4096</td>\n",
              "      <td>372736</td>\n",
              "      <td>4194304.0</td>\n",
              "      <td>4096</td>\n",
              "      <td>1</td>\n",
              "    </tr>\n",
              "    <tr>\n",
              "      <th>1</th>\n",
              "      <td>332</td>\n",
              "      <td>224</td>\n",
              "      <td>3330</td>\n",
              "      <td>9</td>\n",
              "      <td>0</td>\n",
              "      <td>130560</td>\n",
              "      <td>19968</td>\n",
              "      <td>0</td>\n",
              "      <td>81778</td>\n",
              "      <td>4096</td>\n",
              "      <td>143360</td>\n",
              "      <td>771751936.0</td>\n",
              "      <td>4096</td>\n",
              "      <td>1</td>\n",
              "    </tr>\n",
              "    <tr>\n",
              "      <th>2</th>\n",
              "      <td>332</td>\n",
              "      <td>224</td>\n",
              "      <td>3330</td>\n",
              "      <td>9</td>\n",
              "      <td>0</td>\n",
              "      <td>517120</td>\n",
              "      <td>621568</td>\n",
              "      <td>0</td>\n",
              "      <td>350896</td>\n",
              "      <td>4096</td>\n",
              "      <td>811008</td>\n",
              "      <td>771751936.0</td>\n",
              "      <td>4096</td>\n",
              "      <td>1</td>\n",
              "    </tr>\n",
              "    <tr>\n",
              "      <th>3</th>\n",
              "      <td>332</td>\n",
              "      <td>224</td>\n",
              "      <td>258</td>\n",
              "      <td>9</td>\n",
              "      <td>0</td>\n",
              "      <td>585728</td>\n",
              "      <td>369152</td>\n",
              "      <td>0</td>\n",
              "      <td>451258</td>\n",
              "      <td>4096</td>\n",
              "      <td>798720</td>\n",
              "      <td>771751936.0</td>\n",
              "      <td>4096</td>\n",
              "      <td>1</td>\n",
              "    </tr>\n",
              "    <tr>\n",
              "      <th>4</th>\n",
              "      <td>332</td>\n",
              "      <td>224</td>\n",
              "      <td>258</td>\n",
              "      <td>9</td>\n",
              "      <td>0</td>\n",
              "      <td>294912</td>\n",
              "      <td>247296</td>\n",
              "      <td>0</td>\n",
              "      <td>217381</td>\n",
              "      <td>4096</td>\n",
              "      <td>536576</td>\n",
              "      <td>771751936.0</td>\n",
              "      <td>4096</td>\n",
              "      <td>1</td>\n",
              "    </tr>\n",
              "    <tr>\n",
              "      <th>...</th>\n",
              "      <td>...</td>\n",
              "      <td>...</td>\n",
              "      <td>...</td>\n",
              "      <td>...</td>\n",
              "      <td>...</td>\n",
              "      <td>...</td>\n",
              "      <td>...</td>\n",
              "      <td>...</td>\n",
              "      <td>...</td>\n",
              "      <td>...</td>\n",
              "      <td>...</td>\n",
              "      <td>...</td>\n",
              "      <td>...</td>\n",
              "      <td>...</td>\n",
              "    </tr>\n",
              "    <tr>\n",
              "      <th>138042</th>\n",
              "      <td>332</td>\n",
              "      <td>224</td>\n",
              "      <td>258</td>\n",
              "      <td>11</td>\n",
              "      <td>0</td>\n",
              "      <td>205824</td>\n",
              "      <td>223744</td>\n",
              "      <td>0</td>\n",
              "      <td>123291</td>\n",
              "      <td>4096</td>\n",
              "      <td>212992</td>\n",
              "      <td>4194304.0</td>\n",
              "      <td>4096</td>\n",
              "      <td>0</td>\n",
              "    </tr>\n",
              "    <tr>\n",
              "      <th>138043</th>\n",
              "      <td>332</td>\n",
              "      <td>224</td>\n",
              "      <td>33167</td>\n",
              "      <td>2</td>\n",
              "      <td>25</td>\n",
              "      <td>37888</td>\n",
              "      <td>185344</td>\n",
              "      <td>0</td>\n",
              "      <td>40000</td>\n",
              "      <td>4096</td>\n",
              "      <td>45056</td>\n",
              "      <td>4194304.0</td>\n",
              "      <td>4096</td>\n",
              "      <td>0</td>\n",
              "    </tr>\n",
              "    <tr>\n",
              "      <th>138044</th>\n",
              "      <td>332</td>\n",
              "      <td>224</td>\n",
              "      <td>258</td>\n",
              "      <td>10</td>\n",
              "      <td>0</td>\n",
              "      <td>118272</td>\n",
              "      <td>380416</td>\n",
              "      <td>0</td>\n",
              "      <td>59610</td>\n",
              "      <td>4096</td>\n",
              "      <td>122880</td>\n",
              "      <td>4194304.0</td>\n",
              "      <td>4096</td>\n",
              "      <td>0</td>\n",
              "    </tr>\n",
              "    <tr>\n",
              "      <th>138045</th>\n",
              "      <td>332</td>\n",
              "      <td>224</td>\n",
              "      <td>33166</td>\n",
              "      <td>2</td>\n",
              "      <td>25</td>\n",
              "      <td>49152</td>\n",
              "      <td>16896</td>\n",
              "      <td>0</td>\n",
              "      <td>51216</td>\n",
              "      <td>4096</td>\n",
              "      <td>53248</td>\n",
              "      <td>4194304.0</td>\n",
              "      <td>4096</td>\n",
              "      <td>0</td>\n",
              "    </tr>\n",
              "    <tr>\n",
              "      <th>138046</th>\n",
              "      <td>332</td>\n",
              "      <td>224</td>\n",
              "      <td>258</td>\n",
              "      <td>11</td>\n",
              "      <td>0</td>\n",
              "      <td>111616</td>\n",
              "      <td>468480</td>\n",
              "      <td>0</td>\n",
              "      <td>22731</td>\n",
              "      <td>4096</td>\n",
              "      <td>118784</td>\n",
              "      <td>4194304.0</td>\n",
              "      <td>4096</td>\n",
              "      <td>0</td>\n",
              "    </tr>\n",
              "  </tbody>\n",
              "</table>\n",
              "<p>138047 rows × 14 columns</p>\n",
              "</div>\n",
              "    <div class=\"colab-df-buttons\">\n",
              "\n",
              "  <div class=\"colab-df-container\">\n",
              "    <button class=\"colab-df-convert\" onclick=\"convertToInteractive('df-0c6d9669-bb0c-47a0-b1b7-e421bd325756')\"\n",
              "            title=\"Convert this dataframe to an interactive table.\"\n",
              "            style=\"display:none;\">\n",
              "\n",
              "  <svg xmlns=\"http://www.w3.org/2000/svg\" height=\"24px\" viewBox=\"0 -960 960 960\">\n",
              "    <path d=\"M120-120v-720h720v720H120Zm60-500h600v-160H180v160Zm220 220h160v-160H400v160Zm0 220h160v-160H400v160ZM180-400h160v-160H180v160Zm440 0h160v-160H620v160ZM180-180h160v-160H180v160Zm440 0h160v-160H620v160Z\"/>\n",
              "  </svg>\n",
              "    </button>\n",
              "\n",
              "  <style>\n",
              "    .colab-df-container {\n",
              "      display:flex;\n",
              "      gap: 12px;\n",
              "    }\n",
              "\n",
              "    .colab-df-convert {\n",
              "      background-color: #E8F0FE;\n",
              "      border: none;\n",
              "      border-radius: 50%;\n",
              "      cursor: pointer;\n",
              "      display: none;\n",
              "      fill: #1967D2;\n",
              "      height: 32px;\n",
              "      padding: 0 0 0 0;\n",
              "      width: 32px;\n",
              "    }\n",
              "\n",
              "    .colab-df-convert:hover {\n",
              "      background-color: #E2EBFA;\n",
              "      box-shadow: 0px 1px 2px rgba(60, 64, 67, 0.3), 0px 1px 3px 1px rgba(60, 64, 67, 0.15);\n",
              "      fill: #174EA6;\n",
              "    }\n",
              "\n",
              "    .colab-df-buttons div {\n",
              "      margin-bottom: 4px;\n",
              "    }\n",
              "\n",
              "    [theme=dark] .colab-df-convert {\n",
              "      background-color: #3B4455;\n",
              "      fill: #D2E3FC;\n",
              "    }\n",
              "\n",
              "    [theme=dark] .colab-df-convert:hover {\n",
              "      background-color: #434B5C;\n",
              "      box-shadow: 0px 1px 3px 1px rgba(0, 0, 0, 0.15);\n",
              "      filter: drop-shadow(0px 1px 2px rgba(0, 0, 0, 0.3));\n",
              "      fill: #FFFFFF;\n",
              "    }\n",
              "  </style>\n",
              "\n",
              "    <script>\n",
              "      const buttonEl =\n",
              "        document.querySelector('#df-0c6d9669-bb0c-47a0-b1b7-e421bd325756 button.colab-df-convert');\n",
              "      buttonEl.style.display =\n",
              "        google.colab.kernel.accessAllowed ? 'block' : 'none';\n",
              "\n",
              "      async function convertToInteractive(key) {\n",
              "        const element = document.querySelector('#df-0c6d9669-bb0c-47a0-b1b7-e421bd325756');\n",
              "        const dataTable =\n",
              "          await google.colab.kernel.invokeFunction('convertToInteractive',\n",
              "                                                    [key], {});\n",
              "        if (!dataTable) return;\n",
              "\n",
              "        const docLinkHtml = 'Like what you see? Visit the ' +\n",
              "          '<a target=\"_blank\" href=https://colab.research.google.com/notebooks/data_table.ipynb>data table notebook</a>'\n",
              "          + ' to learn more about interactive tables.';\n",
              "        element.innerHTML = '';\n",
              "        dataTable['output_type'] = 'display_data';\n",
              "        await google.colab.output.renderOutput(dataTable, element);\n",
              "        const docLink = document.createElement('div');\n",
              "        docLink.innerHTML = docLinkHtml;\n",
              "        element.appendChild(docLink);\n",
              "      }\n",
              "    </script>\n",
              "  </div>\n",
              "\n",
              "\n",
              "<div id=\"df-c0cce7e4-9f51-4717-8afe-00caf171e6e3\">\n",
              "  <button class=\"colab-df-quickchart\" onclick=\"quickchart('df-c0cce7e4-9f51-4717-8afe-00caf171e6e3')\"\n",
              "            title=\"Suggest charts\"\n",
              "            style=\"display:none;\">\n",
              "\n",
              "<svg xmlns=\"http://www.w3.org/2000/svg\" height=\"24px\"viewBox=\"0 0 24 24\"\n",
              "     width=\"24px\">\n",
              "    <g>\n",
              "        <path d=\"M19 3H5c-1.1 0-2 .9-2 2v14c0 1.1.9 2 2 2h14c1.1 0 2-.9 2-2V5c0-1.1-.9-2-2-2zM9 17H7v-7h2v7zm4 0h-2V7h2v10zm4 0h-2v-4h2v4z\"/>\n",
              "    </g>\n",
              "</svg>\n",
              "  </button>\n",
              "\n",
              "<style>\n",
              "  .colab-df-quickchart {\n",
              "      --bg-color: #E8F0FE;\n",
              "      --fill-color: #1967D2;\n",
              "      --hover-bg-color: #E2EBFA;\n",
              "      --hover-fill-color: #174EA6;\n",
              "      --disabled-fill-color: #AAA;\n",
              "      --disabled-bg-color: #DDD;\n",
              "  }\n",
              "\n",
              "  [theme=dark] .colab-df-quickchart {\n",
              "      --bg-color: #3B4455;\n",
              "      --fill-color: #D2E3FC;\n",
              "      --hover-bg-color: #434B5C;\n",
              "      --hover-fill-color: #FFFFFF;\n",
              "      --disabled-bg-color: #3B4455;\n",
              "      --disabled-fill-color: #666;\n",
              "  }\n",
              "\n",
              "  .colab-df-quickchart {\n",
              "    background-color: var(--bg-color);\n",
              "    border: none;\n",
              "    border-radius: 50%;\n",
              "    cursor: pointer;\n",
              "    display: none;\n",
              "    fill: var(--fill-color);\n",
              "    height: 32px;\n",
              "    padding: 0;\n",
              "    width: 32px;\n",
              "  }\n",
              "\n",
              "  .colab-df-quickchart:hover {\n",
              "    background-color: var(--hover-bg-color);\n",
              "    box-shadow: 0 1px 2px rgba(60, 64, 67, 0.3), 0 1px 3px 1px rgba(60, 64, 67, 0.15);\n",
              "    fill: var(--button-hover-fill-color);\n",
              "  }\n",
              "\n",
              "  .colab-df-quickchart-complete:disabled,\n",
              "  .colab-df-quickchart-complete:disabled:hover {\n",
              "    background-color: var(--disabled-bg-color);\n",
              "    fill: var(--disabled-fill-color);\n",
              "    box-shadow: none;\n",
              "  }\n",
              "\n",
              "  .colab-df-spinner {\n",
              "    border: 2px solid var(--fill-color);\n",
              "    border-color: transparent;\n",
              "    border-bottom-color: var(--fill-color);\n",
              "    animation:\n",
              "      spin 1s steps(1) infinite;\n",
              "  }\n",
              "\n",
              "  @keyframes spin {\n",
              "    0% {\n",
              "      border-color: transparent;\n",
              "      border-bottom-color: var(--fill-color);\n",
              "      border-left-color: var(--fill-color);\n",
              "    }\n",
              "    20% {\n",
              "      border-color: transparent;\n",
              "      border-left-color: var(--fill-color);\n",
              "      border-top-color: var(--fill-color);\n",
              "    }\n",
              "    30% {\n",
              "      border-color: transparent;\n",
              "      border-left-color: var(--fill-color);\n",
              "      border-top-color: var(--fill-color);\n",
              "      border-right-color: var(--fill-color);\n",
              "    }\n",
              "    40% {\n",
              "      border-color: transparent;\n",
              "      border-right-color: var(--fill-color);\n",
              "      border-top-color: var(--fill-color);\n",
              "    }\n",
              "    60% {\n",
              "      border-color: transparent;\n",
              "      border-right-color: var(--fill-color);\n",
              "    }\n",
              "    80% {\n",
              "      border-color: transparent;\n",
              "      border-right-color: var(--fill-color);\n",
              "      border-bottom-color: var(--fill-color);\n",
              "    }\n",
              "    90% {\n",
              "      border-color: transparent;\n",
              "      border-bottom-color: var(--fill-color);\n",
              "    }\n",
              "  }\n",
              "</style>\n",
              "\n",
              "  <script>\n",
              "    async function quickchart(key) {\n",
              "      const quickchartButtonEl =\n",
              "        document.querySelector('#' + key + ' button');\n",
              "      quickchartButtonEl.disabled = true;  // To prevent multiple clicks.\n",
              "      quickchartButtonEl.classList.add('colab-df-spinner');\n",
              "      try {\n",
              "        const charts = await google.colab.kernel.invokeFunction(\n",
              "            'suggestCharts', [key], {});\n",
              "      } catch (error) {\n",
              "        console.error('Error during call to suggestCharts:', error);\n",
              "      }\n",
              "      quickchartButtonEl.classList.remove('colab-df-spinner');\n",
              "      quickchartButtonEl.classList.add('colab-df-quickchart-complete');\n",
              "    }\n",
              "    (() => {\n",
              "      let quickchartButtonEl =\n",
              "        document.querySelector('#df-c0cce7e4-9f51-4717-8afe-00caf171e6e3 button');\n",
              "      quickchartButtonEl.style.display =\n",
              "        google.colab.kernel.accessAllowed ? 'block' : 'none';\n",
              "    })();\n",
              "  </script>\n",
              "</div>\n",
              "\n",
              "  <div id=\"id_25d37380-289f-4580-b321-6db099740004\">\n",
              "    <style>\n",
              "      .colab-df-generate {\n",
              "        background-color: #E8F0FE;\n",
              "        border: none;\n",
              "        border-radius: 50%;\n",
              "        cursor: pointer;\n",
              "        display: none;\n",
              "        fill: #1967D2;\n",
              "        height: 32px;\n",
              "        padding: 0 0 0 0;\n",
              "        width: 32px;\n",
              "      }\n",
              "\n",
              "      .colab-df-generate:hover {\n",
              "        background-color: #E2EBFA;\n",
              "        box-shadow: 0px 1px 2px rgba(60, 64, 67, 0.3), 0px 1px 3px 1px rgba(60, 64, 67, 0.15);\n",
              "        fill: #174EA6;\n",
              "      }\n",
              "\n",
              "      [theme=dark] .colab-df-generate {\n",
              "        background-color: #3B4455;\n",
              "        fill: #D2E3FC;\n",
              "      }\n",
              "\n",
              "      [theme=dark] .colab-df-generate:hover {\n",
              "        background-color: #434B5C;\n",
              "        box-shadow: 0px 1px 3px 1px rgba(0, 0, 0, 0.15);\n",
              "        filter: drop-shadow(0px 1px 2px rgba(0, 0, 0, 0.3));\n",
              "        fill: #FFFFFF;\n",
              "      }\n",
              "    </style>\n",
              "    <button class=\"colab-df-generate\" onclick=\"generateWithVariable('pe_df')\"\n",
              "            title=\"Generate code using this dataframe.\"\n",
              "            style=\"display:none;\">\n",
              "\n",
              "  <svg xmlns=\"http://www.w3.org/2000/svg\" height=\"24px\"viewBox=\"0 0 24 24\"\n",
              "       width=\"24px\">\n",
              "    <path d=\"M7,19H8.4L18.45,9,17,7.55,7,17.6ZM5,21V16.75L18.45,3.32a2,2,0,0,1,2.83,0l1.4,1.43a1.91,1.91,0,0,1,.58,1.4,1.91,1.91,0,0,1-.58,1.4L9.25,21ZM18.45,9,17,7.55Zm-12,3A5.31,5.31,0,0,0,4.9,8.1,5.31,5.31,0,0,0,1,6.5,5.31,5.31,0,0,0,4.9,4.9,5.31,5.31,0,0,0,6.5,1,5.31,5.31,0,0,0,8.1,4.9,5.31,5.31,0,0,0,12,6.5,5.46,5.46,0,0,0,6.5,12Z\"/>\n",
              "  </svg>\n",
              "    </button>\n",
              "    <script>\n",
              "      (() => {\n",
              "      const buttonEl =\n",
              "        document.querySelector('#id_25d37380-289f-4580-b321-6db099740004 button.colab-df-generate');\n",
              "      buttonEl.style.display =\n",
              "        google.colab.kernel.accessAllowed ? 'block' : 'none';\n",
              "\n",
              "      buttonEl.onclick = () => {\n",
              "        google.colab.notebook.generateWithVariable('pe_df');\n",
              "      }\n",
              "      })();\n",
              "    </script>\n",
              "  </div>\n",
              "\n",
              "    </div>\n",
              "  </div>\n"
            ],
            "application/vnd.google.colaboratory.intrinsic+json": {
              "type": "dataframe",
              "variable_name": "pe_df"
            }
          },
          "metadata": {},
          "execution_count": 30
        }
      ],
      "source": [
        "pe_df = dataset[features]\n",
        "pe_df"
      ]
    },
    {
      "cell_type": "code",
      "execution_count": null,
      "id": "ebb34746",
      "metadata": {
        "id": "ebb34746"
      },
      "outputs": [],
      "source": [
        "pe_df.to_csv(\"final_pe_data.csv\",index = False)"
      ]
    },
    {
      "cell_type": "code",
      "execution_count": null,
      "id": "6426f496",
      "metadata": {
        "colab": {
          "base_uri": "https://localhost:8080/"
        },
        "id": "6426f496",
        "outputId": "e5e02dec-0369-4a96-bedd-e432bcbfac0f"
      },
      "outputs": [
        {
          "name": "stdout",
          "output_type": "stream",
          "text": [
            "Overwriting Final_Testing.py\n"
          ]
        }
      ],
      "source": [
        "%%writefile Final_Testing.py\n",
        "\"\"\"\n",
        "this file extracts the required information of a given file using the library PE\n",
        "\n",
        "\"\"\"\n",
        "\n",
        "import pefile\n",
        "import os\n",
        "import array\n",
        "import math\n",
        "import pickle\n",
        "import joblib\n",
        "import sys\n",
        "import argparse\n",
        "\n",
        "\n",
        "\n",
        "def get_entropy(data):\n",
        "    if len(data) == 0:\n",
        "        return 0.0\n",
        "    occurences = array.array('L', [0]*256)\n",
        "    for x in data:\n",
        "        occurences[x if isinstance(x, int) else ord(x)] += 1\n",
        "    entropy = 0\n",
        "    for x in occurences:\n",
        "        if x:\n",
        "            p_x = float(x) / len(data)\n",
        "            entropy -= p_x*math.log(p_x, 2)\n",
        "    return entropy\n",
        "\n",
        "\n",
        "def get_resources(pe):\n",
        "    \"\"\"Extract resources :\n",
        "    [entropy, size]\"\"\"\n",
        "    resources = []\n",
        "    if hasattr(pe, 'DIRECTORY_ENTRY_RESOURCE'):\n",
        "        try:\n",
        "            for resource_type in pe.DIRECTORY_ENTRY_RESOURCE.entries:\n",
        "                if hasattr(resource_type, 'directory'):\n",
        "                    for resource_id in resource_type.directory.entries:\n",
        "                        if hasattr(resource_id, 'directory'):\n",
        "                            for resource_lang in resource_id.directory.entries:\n",
        "                                data = pe.get_data(resource_lang.data.struct.OffsetToData, resource_lang.data.struct.Size)\n",
        "                                size = resource_lang.data.struct.Size\n",
        "                                entropy = get_entropy(data)\n",
        "\n",
        "                                resources.append([entropy, size])\n",
        "        except Exception as e:\n",
        "            return resources\n",
        "    return resources\n",
        "\n",
        "def get_version_info(pe):\n",
        "    \"\"\"Return version infos\"\"\"\n",
        "    res = {}\n",
        "    for fileinfo in pe.FileInfo:\n",
        "        if fileinfo.Key == 'StringFileInfo':\n",
        "            for st in fileinfo.StringTable:\n",
        "                for entry in st.entries.items():\n",
        "                    res[entry[0]] = entry[1]\n",
        "        if fileinfo.Key == 'VarFileInfo':\n",
        "            for var in fileinfo.Var:\n",
        "                res[var.entry.items()[0][0]] = var.entry.items()[0][1]\n",
        "    if hasattr(pe, 'VS_FIXEDFILEINFO'):\n",
        "        res['flags'] = pe.VS_FIXEDFILEINFO.FileFlags\n",
        "        res['os'] = pe.VS_FIXEDFILEINFO.FileOS\n",
        "        res['type'] = pe.VS_FIXEDFILEINFO.FileType\n",
        "        res['file_version'] = pe.VS_FIXEDFILEINFO.FileVersionLS\n",
        "        res['product_version'] = pe.VS_FIXEDFILEINFO.ProductVersionLS\n",
        "        res['signature'] = pe.VS_FIXEDFILEINFO.Signature\n",
        "        res['struct_version'] = pe.VS_FIXEDFILEINFO.StrucVersion\n",
        "    return res\n",
        "\n",
        "#extract the info for a given file\n",
        "def extract_infos(fpath):\n",
        "    res = {}\n",
        "    pe = pefile.PE(fpath)\n",
        "    res['Machine'] = pe.FILE_HEADER.Machine\n",
        "    res['SizeOfOptionalHeader'] = pe.FILE_HEADER.SizeOfOptionalHeader\n",
        "    res['Characteristics'] = pe.FILE_HEADER.Characteristics\n",
        "    res['MajorLinkerVersion'] = pe.OPTIONAL_HEADER.MajorLinkerVersion\n",
        "    res['MinorLinkerVersion'] = pe.OPTIONAL_HEADER.MinorLinkerVersion\n",
        "    res['SizeOfCode'] = pe.OPTIONAL_HEADER.SizeOfCode\n",
        "    res['SizeOfInitializedData'] = pe.OPTIONAL_HEADER.SizeOfInitializedData\n",
        "    res['SizeOfUninitializedData'] = pe.OPTIONAL_HEADER.SizeOfUninitializedData\n",
        "    res['AddressOfEntryPoint'] = pe.OPTIONAL_HEADER.AddressOfEntryPoint\n",
        "    res['BaseOfCode'] = pe.OPTIONAL_HEADER.BaseOfCode\n",
        "    try:\n",
        "        res['BaseOfData'] = pe.OPTIONAL_HEADER.BaseOfData\n",
        "    except AttributeError:\n",
        "        res['BaseOfData'] = 0\n",
        "    res['ImageBase'] = pe.OPTIONAL_HEADER.ImageBase\n",
        "    res['SectionAlignment'] = pe.OPTIONAL_HEADER.SectionAlignment\n",
        "    res['FileAlignment'] = pe.OPTIONAL_HEADER.FileAlignment\n",
        "    res['MajorOperatingSystemVersion'] = pe.OPTIONAL_HEADER.MajorOperatingSystemVersion\n",
        "    res['MinorOperatingSystemVersion'] = pe.OPTIONAL_HEADER.MinorOperatingSystemVersion\n",
        "    res['MajorImageVersion'] = pe.OPTIONAL_HEADER.MajorImageVersion\n",
        "    res['MinorImageVersion'] = pe.OPTIONAL_HEADER.MinorImageVersion\n",
        "    res['MajorSubsystemVersion'] = pe.OPTIONAL_HEADER.MajorSubsystemVersion\n",
        "    res['MinorSubsystemVersion'] = pe.OPTIONAL_HEADER.MinorSubsystemVersion\n",
        "    res['SizeOfImage'] = pe.OPTIONAL_HEADER.SizeOfImage\n",
        "    res['SizeOfHeaders'] = pe.OPTIONAL_HEADER.SizeOfHeaders\n",
        "    res['CheckSum'] = pe.OPTIONAL_HEADER.CheckSum\n",
        "    res['Subsystem'] = pe.OPTIONAL_HEADER.Subsystem\n",
        "    res['DllCharacteristics'] = pe.OPTIONAL_HEADER.DllCharacteristics\n",
        "    res['SizeOfStackReserve'] = pe.OPTIONAL_HEADER.SizeOfStackReserve\n",
        "    res['SizeOfStackCommit'] = pe.OPTIONAL_HEADER.SizeOfStackCommit\n",
        "    res['SizeOfHeapReserve'] = pe.OPTIONAL_HEADER.SizeOfHeapReserve\n",
        "    res['SizeOfHeapCommit'] = pe.OPTIONAL_HEADER.SizeOfHeapCommit\n",
        "    res['LoaderFlags'] = pe.OPTIONAL_HEADER.LoaderFlags\n",
        "    res['NumberOfRvaAndSizes'] = pe.OPTIONAL_HEADER.NumberOfRvaAndSizes\n",
        "\n",
        "    # Sections\n",
        "    res['SectionsNb'] = len(pe.sections)\n",
        "    entropy = list(map(lambda x:x.get_entropy(), pe.sections))\n",
        "    res['SectionsMeanEntropy'] = sum(entropy)/float(len(entropy))\n",
        "    res['SectionsMinEntropy'] = min(entropy)\n",
        "    res['SectionsMaxEntropy'] = max(entropy)\n",
        "    raw_sizes = list(map(lambda x:x.SizeOfRawData, pe.sections))\n",
        "    res['SectionsMeanRawsize'] = sum(raw_sizes)/float(len(raw_sizes))\n",
        "    res['SectionsMinRawsize'] = min(raw_sizes)\n",
        "    res['SectionsMaxRawsize'] = max(raw_sizes)\n",
        "    virtual_sizes = list(map(lambda x:x.Misc_VirtualSize, pe.sections))\n",
        "    res['SectionsMeanVirtualsize'] = sum(virtual_sizes)/float(len(virtual_sizes))\n",
        "    res['SectionsMinVirtualsize'] = min(virtual_sizes)\n",
        "    res['SectionMaxVirtualsize'] = max(virtual_sizes)\n",
        "\n",
        "    #Imports\n",
        "    try:\n",
        "        res['ImportsNbDLL'] = len(pe.DIRECTORY_ENTRY_IMPORT)\n",
        "        imports = sum([x.imports for x in pe.DIRECTORY_ENTRY_IMPORT], [])\n",
        "        res['ImportsNb'] = len(imports)\n",
        "        res['ImportsNbOrdinal'] = len(list(filter(lambda x:x.name is None, imports)))\n",
        "    except AttributeError:\n",
        "        res['ImportsNbDLL'] = 0\n",
        "        res['ImportsNb'] = 0\n",
        "        res['ImportsNbOrdinal'] = 0\n",
        "\n",
        "    #Exports\n",
        "    try:\n",
        "        res['ExportNb'] = len(pe.DIRECTORY_ENTRY_EXPORT.symbols)\n",
        "    except AttributeError:\n",
        "        # No export\n",
        "        res['ExportNb'] = 0\n",
        "    #Resources\n",
        "    resources= get_resources(pe)\n",
        "    res['ResourcesNb'] = len(resources)\n",
        "    if len(resources)> 0:\n",
        "        entropy = list(map(lambda x:x[0], resources))\n",
        "        res['ResourcesMeanEntropy'] = sum(entropy)/float(len(entropy))\n",
        "        res['ResourcesMinEntropy'] = min(entropy)\n",
        "        res['ResourcesMaxEntropy'] = max(entropy)\n",
        "        sizes = list(map(lambda x:x[1], resources))\n",
        "        res['ResourcesMeanSize'] = sum(sizes)/float(len(sizes))\n",
        "        res['ResourcesMinSize'] = min(sizes)\n",
        "        res['ResourcesMaxSize'] = max(sizes)\n",
        "    else:\n",
        "        res['ResourcesNb'] = 0\n",
        "        res['ResourcesMeanEntropy'] = 0\n",
        "        res['ResourcesMinEntropy'] = 0\n",
        "        res['ResourcesMaxEntropy'] = 0\n",
        "        res['ResourcesMeanSize'] = 0\n",
        "        res['ResourcesMinSize'] = 0\n",
        "        res['ResourcesMaxSize'] = 0\n",
        "\n",
        "    # Load configuration size\n",
        "    try:\n",
        "        res['LoadConfigurationSize'] = pe.DIRECTORY_ENTRY_LOAD_CONFIG.struct.Size\n",
        "    except AttributeError:\n",
        "        res['LoadConfigurationSize'] = 0\n",
        "\n",
        "\n",
        "    # Version configuration size\n",
        "    try:\n",
        "        version_infos = get_version_info(pe)\n",
        "        res['VersionInformationSize'] = len(version_infos.keys())\n",
        "    except AttributeError:\n",
        "        res['VersionInformationSize'] = 0\n",
        "    return res\n",
        "\n",
        "\n",
        "if __name__ == '__main__':\n",
        "\n",
        "    clf = joblib.load('classifier/classifier.pkl')\n",
        "    features = pickle.loads(open(os.path.join('classifier/features.pkl'),'rb').read())\n",
        "    data = extract_infos(sys.argv[1])\n",
        "    pe_features = list(map(lambda x:data[x], features))\n",
        "\n",
        "    res= clf.predict([pe_features])[0]\n",
        "    print ('The file %s is %s' % (os.path.basename(sys.argv[1]),['legitimate', 'malicious'][res]))"
      ]
    },
    {
      "cell_type": "code",
      "execution_count": null,
      "id": "dffa12e7",
      "metadata": {
        "colab": {
          "base_uri": "https://localhost:8080/"
        },
        "id": "dffa12e7",
        "outputId": "a8355464-84a9-4df9-97cb-c6f645fd69eb"
      },
      "outputs": [
        {
          "name": "stdout",
          "output_type": "stream",
          "text": [
            "The file sublime_text_build_4169_x64_setup.exe is legitimate\n"
          ]
        }
      ],
      "source": [
        "%run Final_Testing.py /content/drive/MyDrive/SEM6_Project/Malicious_File/PE_Malicious_File_Detection/Test_Sample/sublime_text_build_4169_x64_setup.exe"
      ]
    },
    {
      "cell_type": "markdown",
      "id": "g9mNV0rjwEVO",
      "metadata": {
        "id": "g9mNV0rjwEVO"
      },
      "source": [
        "Checking................"
      ]
    },
    {
      "cell_type": "code",
      "execution_count": null,
      "id": "HNDLcXHcwDcO",
      "metadata": {
        "colab": {
          "base_uri": "https://localhost:8080/"
        },
        "id": "HNDLcXHcwDcO",
        "outputId": "f71e3303-acff-4f1f-a74b-42f299548d1f"
      },
      "outputs": [
        {
          "output_type": "stream",
          "name": "stdout",
          "text": [
            "Cloning into 'DikeDataset'...\n",
            "remote: Enumerating objects: 11989, done.\u001b[K\n",
            "remote: Counting objects: 100% (11989/11989), done.\u001b[K\n",
            "^C\n"
          ]
        }
      ],
      "source": [
        "!git clone https://github.com/iosifache/DikeDataset.git"
      ]
    },
    {
      "cell_type": "markdown",
      "id": "h6LJX-ht6O2K",
      "metadata": {
        "id": "h6LJX-ht6O2K"
      },
      "source": [
        "### Legitimate File Prediction"
      ]
    },
    {
      "cell_type": "code",
      "execution_count": null,
      "id": "0x9W6OGx6Mdm",
      "metadata": {
        "colab": {
          "base_uri": "https://localhost:8080/"
        },
        "id": "0x9W6OGx6Mdm",
        "outputId": "f40f7530-3d26-4485-bdf0-6b0098a85761"
      },
      "outputs": [
        {
          "name": "stdout",
          "output_type": "stream",
          "text": [
            "The file 016584e586de67b725ac1e3974fcca320bf81c8c489ebb17d9909735d517e7ae.exe is legitimate\n"
          ]
        }
      ],
      "source": [
        "%run Final_Testing.py 016584e586de67b725ac1e3974fcca320bf81c8c489ebb17d9909735d517e7ae.exe"
      ]
    },
    {
      "cell_type": "code",
      "execution_count": null,
      "id": "870Ay8M16kJ-",
      "metadata": {
        "colab": {
          "base_uri": "https://localhost:8080/"
        },
        "id": "870Ay8M16kJ-",
        "outputId": "e6927294-4686-47f2-ccbc-8e814849c0b9"
      },
      "outputs": [
        {
          "name": "stdout",
          "output_type": "stream",
          "text": [
            "The file 0758b74302db6964914e3117fb52f6b0cd4dd84d2b6c1df1aeabd2d4343acf88.exe is legitimate\n"
          ]
        }
      ],
      "source": [
        "%run Final_Testing.py 0758b74302db6964914e3117fb52f6b0cd4dd84d2b6c1df1aeabd2d4343acf88.exe"
      ]
    },
    {
      "cell_type": "markdown",
      "id": "ULZbE-f4cIFz",
      "metadata": {
        "id": "ULZbE-f4cIFz"
      },
      "source": [
        "# SS"
      ]
    },
    {
      "cell_type": "code",
      "execution_count": null,
      "id": "bjk94lyYcHh4",
      "metadata": {
        "colab": {
          "base_uri": "https://localhost:8080/"
        },
        "id": "bjk94lyYcHh4",
        "outputId": "d83c2144-6481-460d-c7a9-9ec66905452f"
      },
      "outputs": [
        {
          "data": {
            "text/plain": [
              "0.9944947482796088"
            ]
          },
          "execution_count": 281,
          "metadata": {},
          "output_type": "execute_result"
        }
      ],
      "source": [
        "clf.score(X_test, y_test)"
      ]
    },
    {
      "cell_type": "code",
      "execution_count": null,
      "id": "J_JYhm2Fc2BM",
      "metadata": {
        "id": "J_JYhm2Fc2BM"
      },
      "outputs": [],
      "source": [
        "\"\"\"\n",
        "\n",
        "Machine = 332\n",
        "SizeOfOptionalHeader = 224\n",
        "Characteristics = 258\n",
        "MajorLinkerVersion = 9\n",
        "MinorLinkerVersion = 0\n",
        "SizeOfCode = 294912\n",
        "SizeOfInitializedData = 247296\n",
        "SizeOfUninitializedData = 0\n",
        "AddressOfEntryPoint = 217381\n",
        "BaseOfCode = 4096\n",
        "BaseOfData = 536576\n",
        "ImageBase = 771751936\n",
        "SectionAlignment = 4096\n",
        "\n",
        "\"\"\""
      ]
    },
    {
      "cell_type": "code",
      "execution_count": null,
      "id": "AEUbYXkkeKtR",
      "metadata": {
        "id": "AEUbYXkkeKtR"
      },
      "outputs": [],
      "source": [
        "data = [[332, 224, 258, 10, 0, 28672, 445952, 16896, 14819, 4096, 32768, 4194304, 4096]]\n",
        "\n",
        "# [332, 224, 290, 9, 0, 823808, 650240, 0, 587663, 4096, 831488, 4194304, 4096],"
      ]
    },
    {
      "cell_type": "code",
      "execution_count": null,
      "id": "GaXl9AbLgdLt",
      "metadata": {
        "colab": {
          "base_uri": "https://localhost:8080/"
        },
        "id": "GaXl9AbLgdLt",
        "outputId": "84957df3-5ebb-46ee-8793-23d5b8c9e8ce"
      },
      "outputs": [
        {
          "name": "stdout",
          "output_type": "stream",
          "text": [
            "Machine                    int64\n",
            "SizeOfOptionalHeader       int64\n",
            "Characteristics            int64\n",
            "MajorLinkerVersion         int64\n",
            "MinorLinkerVersion         int64\n",
            "SizeOfCode                 int64\n",
            "SizeOfInitializedData      int64\n",
            "SizeOfUninitializedData    int64\n",
            "AddressOfEntryPoint        int64\n",
            "BaseOfCode                 int64\n",
            "BaseOfData                 int64\n",
            "ImageBase                  int64\n",
            "SectionAlignment           int64\n",
            "dtype: object\n"
          ]
        }
      ],
      "source": [
        "df = pd.DataFrame(data, columns=[\n",
        "    'Machine',\n",
        "    'SizeOfOptionalHeader',\n",
        "    'Characteristics',\n",
        "    'MajorLinkerVersion',\n",
        "    'MinorLinkerVersion',\n",
        "    'SizeOfCode',\n",
        "    'SizeOfInitializedData',\n",
        "    'SizeOfUninitializedData',\n",
        "    'AddressOfEntryPoint',\n",
        "    'BaseOfCode',\n",
        "    'BaseOfData',\n",
        "    'ImageBase',\n",
        "    'SectionAlignment',\n",
        "    ])\n",
        "\n",
        "df.head()\n",
        "print(df.dtypes)"
      ]
    },
    {
      "cell_type": "code",
      "execution_count": null,
      "id": "i4gxA1c3h25V",
      "metadata": {
        "colab": {
          "base_uri": "https://localhost:8080/",
          "height": 101
        },
        "id": "i4gxA1c3h25V",
        "outputId": "9593cff0-b69d-4557-dc38-7243e6ae9a05"
      },
      "outputs": [
        {
          "data": {
            "application/vnd.google.colaboratory.intrinsic+json": {
              "summary": "{\n  \"name\": \"df\",\n  \"rows\": 1,\n  \"fields\": [\n    {\n      \"column\": \"Machine\",\n      \"properties\": {\n        \"dtype\": \"number\",\n        \"std\": null,\n        \"min\": 332,\n        \"max\": 332,\n        \"num_unique_values\": 1,\n        \"samples\": [\n          332\n        ],\n        \"semantic_type\": \"\",\n        \"description\": \"\"\n      }\n    },\n    {\n      \"column\": \"SizeOfOptionalHeader\",\n      \"properties\": {\n        \"dtype\": \"number\",\n        \"std\": null,\n        \"min\": 224,\n        \"max\": 224,\n        \"num_unique_values\": 1,\n        \"samples\": [\n          224\n        ],\n        \"semantic_type\": \"\",\n        \"description\": \"\"\n      }\n    },\n    {\n      \"column\": \"Characteristics\",\n      \"properties\": {\n        \"dtype\": \"number\",\n        \"std\": null,\n        \"min\": 258,\n        \"max\": 258,\n        \"num_unique_values\": 1,\n        \"samples\": [\n          258\n        ],\n        \"semantic_type\": \"\",\n        \"description\": \"\"\n      }\n    },\n    {\n      \"column\": \"MajorLinkerVersion\",\n      \"properties\": {\n        \"dtype\": \"number\",\n        \"std\": null,\n        \"min\": 10,\n        \"max\": 10,\n        \"num_unique_values\": 1,\n        \"samples\": [\n          10\n        ],\n        \"semantic_type\": \"\",\n        \"description\": \"\"\n      }\n    },\n    {\n      \"column\": \"MinorLinkerVersion\",\n      \"properties\": {\n        \"dtype\": \"number\",\n        \"std\": null,\n        \"min\": 0,\n        \"max\": 0,\n        \"num_unique_values\": 1,\n        \"samples\": [\n          0\n        ],\n        \"semantic_type\": \"\",\n        \"description\": \"\"\n      }\n    },\n    {\n      \"column\": \"SizeOfCode\",\n      \"properties\": {\n        \"dtype\": \"number\",\n        \"std\": null,\n        \"min\": 28672,\n        \"max\": 28672,\n        \"num_unique_values\": 1,\n        \"samples\": [\n          28672\n        ],\n        \"semantic_type\": \"\",\n        \"description\": \"\"\n      }\n    },\n    {\n      \"column\": \"SizeOfInitializedData\",\n      \"properties\": {\n        \"dtype\": \"number\",\n        \"std\": null,\n        \"min\": 445952,\n        \"max\": 445952,\n        \"num_unique_values\": 1,\n        \"samples\": [\n          445952\n        ],\n        \"semantic_type\": \"\",\n        \"description\": \"\"\n      }\n    },\n    {\n      \"column\": \"SizeOfUninitializedData\",\n      \"properties\": {\n        \"dtype\": \"number\",\n        \"std\": null,\n        \"min\": 16896,\n        \"max\": 16896,\n        \"num_unique_values\": 1,\n        \"samples\": [\n          16896\n        ],\n        \"semantic_type\": \"\",\n        \"description\": \"\"\n      }\n    },\n    {\n      \"column\": \"AddressOfEntryPoint\",\n      \"properties\": {\n        \"dtype\": \"number\",\n        \"std\": null,\n        \"min\": 14819,\n        \"max\": 14819,\n        \"num_unique_values\": 1,\n        \"samples\": [\n          14819\n        ],\n        \"semantic_type\": \"\",\n        \"description\": \"\"\n      }\n    },\n    {\n      \"column\": \"BaseOfCode\",\n      \"properties\": {\n        \"dtype\": \"number\",\n        \"std\": null,\n        \"min\": 4096,\n        \"max\": 4096,\n        \"num_unique_values\": 1,\n        \"samples\": [\n          4096\n        ],\n        \"semantic_type\": \"\",\n        \"description\": \"\"\n      }\n    },\n    {\n      \"column\": \"BaseOfData\",\n      \"properties\": {\n        \"dtype\": \"number\",\n        \"std\": null,\n        \"min\": 32768,\n        \"max\": 32768,\n        \"num_unique_values\": 1,\n        \"samples\": [\n          32768\n        ],\n        \"semantic_type\": \"\",\n        \"description\": \"\"\n      }\n    },\n    {\n      \"column\": \"ImageBase\",\n      \"properties\": {\n        \"dtype\": \"number\",\n        \"std\": null,\n        \"min\": 4194304,\n        \"max\": 4194304,\n        \"num_unique_values\": 1,\n        \"samples\": [\n          4194304\n        ],\n        \"semantic_type\": \"\",\n        \"description\": \"\"\n      }\n    },\n    {\n      \"column\": \"SectionAlignment\",\n      \"properties\": {\n        \"dtype\": \"number\",\n        \"std\": null,\n        \"min\": 4096,\n        \"max\": 4096,\n        \"num_unique_values\": 1,\n        \"samples\": [\n          4096\n        ],\n        \"semantic_type\": \"\",\n        \"description\": \"\"\n      }\n    }\n  ]\n}",
              "type": "dataframe",
              "variable_name": "df"
            },
            "text/html": [
              "\n",
              "  <div id=\"df-a08a2d77-da33-46de-b583-9058c21afa1c\" class=\"colab-df-container\">\n",
              "    <div>\n",
              "<style scoped>\n",
              "    .dataframe tbody tr th:only-of-type {\n",
              "        vertical-align: middle;\n",
              "    }\n",
              "\n",
              "    .dataframe tbody tr th {\n",
              "        vertical-align: top;\n",
              "    }\n",
              "\n",
              "    .dataframe thead th {\n",
              "        text-align: right;\n",
              "    }\n",
              "</style>\n",
              "<table border=\"1\" class=\"dataframe\">\n",
              "  <thead>\n",
              "    <tr style=\"text-align: right;\">\n",
              "      <th></th>\n",
              "      <th>Machine</th>\n",
              "      <th>SizeOfOptionalHeader</th>\n",
              "      <th>Characteristics</th>\n",
              "      <th>MajorLinkerVersion</th>\n",
              "      <th>MinorLinkerVersion</th>\n",
              "      <th>SizeOfCode</th>\n",
              "      <th>SizeOfInitializedData</th>\n",
              "      <th>SizeOfUninitializedData</th>\n",
              "      <th>AddressOfEntryPoint</th>\n",
              "      <th>BaseOfCode</th>\n",
              "      <th>BaseOfData</th>\n",
              "      <th>ImageBase</th>\n",
              "      <th>SectionAlignment</th>\n",
              "    </tr>\n",
              "  </thead>\n",
              "  <tbody>\n",
              "    <tr>\n",
              "      <th>0</th>\n",
              "      <td>332</td>\n",
              "      <td>224</td>\n",
              "      <td>258</td>\n",
              "      <td>10</td>\n",
              "      <td>0</td>\n",
              "      <td>28672</td>\n",
              "      <td>445952</td>\n",
              "      <td>16896</td>\n",
              "      <td>14819</td>\n",
              "      <td>4096</td>\n",
              "      <td>32768</td>\n",
              "      <td>4194304</td>\n",
              "      <td>4096</td>\n",
              "    </tr>\n",
              "  </tbody>\n",
              "</table>\n",
              "</div>\n",
              "    <div class=\"colab-df-buttons\">\n",
              "\n",
              "  <div class=\"colab-df-container\">\n",
              "    <button class=\"colab-df-convert\" onclick=\"convertToInteractive('df-a08a2d77-da33-46de-b583-9058c21afa1c')\"\n",
              "            title=\"Convert this dataframe to an interactive table.\"\n",
              "            style=\"display:none;\">\n",
              "\n",
              "  <svg xmlns=\"http://www.w3.org/2000/svg\" height=\"24px\" viewBox=\"0 -960 960 960\">\n",
              "    <path d=\"M120-120v-720h720v720H120Zm60-500h600v-160H180v160Zm220 220h160v-160H400v160Zm0 220h160v-160H400v160ZM180-400h160v-160H180v160Zm440 0h160v-160H620v160ZM180-180h160v-160H180v160Zm440 0h160v-160H620v160Z\"/>\n",
              "  </svg>\n",
              "    </button>\n",
              "\n",
              "  <style>\n",
              "    .colab-df-container {\n",
              "      display:flex;\n",
              "      gap: 12px;\n",
              "    }\n",
              "\n",
              "    .colab-df-convert {\n",
              "      background-color: #E8F0FE;\n",
              "      border: none;\n",
              "      border-radius: 50%;\n",
              "      cursor: pointer;\n",
              "      display: none;\n",
              "      fill: #1967D2;\n",
              "      height: 32px;\n",
              "      padding: 0 0 0 0;\n",
              "      width: 32px;\n",
              "    }\n",
              "\n",
              "    .colab-df-convert:hover {\n",
              "      background-color: #E2EBFA;\n",
              "      box-shadow: 0px 1px 2px rgba(60, 64, 67, 0.3), 0px 1px 3px 1px rgba(60, 64, 67, 0.15);\n",
              "      fill: #174EA6;\n",
              "    }\n",
              "\n",
              "    .colab-df-buttons div {\n",
              "      margin-bottom: 4px;\n",
              "    }\n",
              "\n",
              "    [theme=dark] .colab-df-convert {\n",
              "      background-color: #3B4455;\n",
              "      fill: #D2E3FC;\n",
              "    }\n",
              "\n",
              "    [theme=dark] .colab-df-convert:hover {\n",
              "      background-color: #434B5C;\n",
              "      box-shadow: 0px 1px 3px 1px rgba(0, 0, 0, 0.15);\n",
              "      filter: drop-shadow(0px 1px 2px rgba(0, 0, 0, 0.3));\n",
              "      fill: #FFFFFF;\n",
              "    }\n",
              "  </style>\n",
              "\n",
              "    <script>\n",
              "      const buttonEl =\n",
              "        document.querySelector('#df-a08a2d77-da33-46de-b583-9058c21afa1c button.colab-df-convert');\n",
              "      buttonEl.style.display =\n",
              "        google.colab.kernel.accessAllowed ? 'block' : 'none';\n",
              "\n",
              "      async function convertToInteractive(key) {\n",
              "        const element = document.querySelector('#df-a08a2d77-da33-46de-b583-9058c21afa1c');\n",
              "        const dataTable =\n",
              "          await google.colab.kernel.invokeFunction('convertToInteractive',\n",
              "                                                    [key], {});\n",
              "        if (!dataTable) return;\n",
              "\n",
              "        const docLinkHtml = 'Like what you see? Visit the ' +\n",
              "          '<a target=\"_blank\" href=https://colab.research.google.com/notebooks/data_table.ipynb>data table notebook</a>'\n",
              "          + ' to learn more about interactive tables.';\n",
              "        element.innerHTML = '';\n",
              "        dataTable['output_type'] = 'display_data';\n",
              "        await google.colab.output.renderOutput(dataTable, element);\n",
              "        const docLink = document.createElement('div');\n",
              "        docLink.innerHTML = docLinkHtml;\n",
              "        element.appendChild(docLink);\n",
              "      }\n",
              "    </script>\n",
              "  </div>\n",
              "\n",
              "\n",
              "    </div>\n",
              "  </div>\n"
            ],
            "text/plain": [
              "   Machine  SizeOfOptionalHeader  Characteristics  MajorLinkerVersion  \\\n",
              "0      332                   224              258                  10   \n",
              "\n",
              "   MinorLinkerVersion  SizeOfCode  SizeOfInitializedData  \\\n",
              "0                   0       28672                 445952   \n",
              "\n",
              "   SizeOfUninitializedData  AddressOfEntryPoint  BaseOfCode  BaseOfData  \\\n",
              "0                    16896                14819        4096       32768   \n",
              "\n",
              "   ImageBase  SectionAlignment  \n",
              "0    4194304              4096  "
            ]
          },
          "execution_count": 314,
          "metadata": {},
          "output_type": "execute_result"
        }
      ],
      "source": [
        "df.head()"
      ]
    },
    {
      "cell_type": "code",
      "execution_count": null,
      "id": "w4jdeMX4gcls",
      "metadata": {
        "colab": {
          "base_uri": "https://localhost:8080/"
        },
        "id": "w4jdeMX4gcls",
        "outputId": "c6226e24-c83a-4321-e856-df8add302334"
      },
      "outputs": [
        {
          "name": "stderr",
          "output_type": "stream",
          "text": [
            "/usr/local/lib/python3.10/dist-packages/sklearn/base.py:432: UserWarning: X has feature names, but RandomForestClassifier was fitted without feature names\n",
            "  warnings.warn(\n",
            "/usr/local/lib/python3.10/dist-packages/sklearn/base.py:432: UserWarning: X has feature names, but RandomForestClassifier was fitted without feature names\n",
            "  warnings.warn(\n"
          ]
        }
      ],
      "source": [
        "prediction = clf.predict(df)\n",
        "probability = clf.predict_proba(df)[:,1]\n",
        "\n",
        "\"\"\"\n",
        "\n",
        "threshold = 0.5  # adjust this threshold as needed\n",
        "probability = clf.predict_proba(df)[:,1]\n",
        "prediction = [1 if prob > threshold else 0 for prob in probability]\n",
        "\n",
        "\"\"\""
      ]
    },
    {
      "cell_type": "code",
      "execution_count": null,
      "id": "sMkXJoy_hx6I",
      "metadata": {
        "colab": {
          "base_uri": "https://localhost:8080/"
        },
        "id": "sMkXJoy_hx6I",
        "outputId": "217f5407-6f40-4321-8dbd-83a082274c28"
      },
      "outputs": [
        {
          "name": "stdout",
          "output_type": "stream",
          "text": [
            "[0]\n"
          ]
        }
      ],
      "source": [
        "print(prediction)"
      ]
    },
    {
      "cell_type": "code",
      "execution_count": null,
      "id": "-BcAx_b8h0FD",
      "metadata": {
        "colab": {
          "base_uri": "https://localhost:8080/"
        },
        "id": "-BcAx_b8h0FD",
        "outputId": "bf915af8-65ca-4533-a10e-9009b1072026"
      },
      "outputs": [
        {
          "name": "stdout",
          "output_type": "stream",
          "text": [
            "[0.44]\n"
          ]
        }
      ],
      "source": [
        "print(probability)"
      ]
    },
    {
      "cell_type": "code",
      "execution_count": null,
      "id": "JP6UTpv4iHP5",
      "metadata": {
        "colab": {
          "base_uri": "https://localhost:8080/"
        },
        "id": "JP6UTpv4iHP5",
        "outputId": "424e4d54-fe67-49ef-bb9d-8d8aece40c50"
      },
      "outputs": [
        {
          "name": "stdout",
          "output_type": "stream",
          "text": [
            "Based on the Details provided, the file is Malicious\n",
            "Confidence level is [44.]\n"
          ]
        }
      ],
      "source": [
        "if prediction == [1]:\n",
        "    print(\"Based on the Details provided, the file is Legitimate\")\n",
        "    print(f\"Confidence level is {np.round(probability*100, 2)}\")\n",
        "else:\n",
        "    print(\"Based on the Details provided, the file is Malicious\")\n",
        "    print(f\"Confidence level is {np.round(probability*100, 2)}\")"
      ]
    }
  ],
  "metadata": {
    "colab": {
      "collapsed_sections": [
        "LWZABpr7ewnx",
        "Uyz8KxOC2suH",
        "XQCnfcP1ftda"
      ],
      "provenance": [],
      "gpuType": "T4"
    },
    "kernelspec": {
      "display_name": "Python 3",
      "name": "python3"
    },
    "language_info": {
      "codemirror_mode": {
        "name": "ipython",
        "version": 3
      },
      "file_extension": ".py",
      "mimetype": "text/x-python",
      "name": "python",
      "nbconvert_exporter": "python",
      "pygments_lexer": "ipython3",
      "version": "3.9.6"
    },
    "accelerator": "GPU"
  },
  "nbformat": 4,
  "nbformat_minor": 5
}